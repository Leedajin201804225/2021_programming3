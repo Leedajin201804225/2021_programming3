{
 "cells": [
  {
   "cell_type": "markdown",
   "metadata": {},
   "source": [
    " ### 201804225 이다진 프로그래밍3-발표 과제 (Telecom users dataset - Practice classification with a telco dataset)\n",
    "\n",
    "1. 발표 주제 : telecom 데이터를 이용한 4가지 분석포인트에 대해 분석하기\n",
    "2. 발표 데이터 셋 설명 : Telecom users dataset의 경우 통신사에서 고객을 유지하기 위해 행동 예측을 하려는 데이터 세트로 통신사 고객 이탈 데이터 셋이다. \n",
    "    이 때, 한달 이내 이탈한 고객을 뜻하는 churn 열의 중심으로 각 고객이 가입한 서비스, 고객 계정 정보, 고객에 대한 인구 통계 정보가 나와있다.\n",
    "3. 분석 포인트 : 이번 프로그래밍3 과제 분석에서 이 데이터를 가지고 고객 이탈 예측이 아닌, 서비스를 받기 위한 고객이 들어오려고 할 때 \n",
    "    추천해줄 수 있는 가이드를 만들어보려고 했다. \n",
    "4. 이유 : 고객을 유지하기 위해서는 고객 이탈을 예측해서 막는 것도 중요하지만, 통신사를 이용하고 있는 고객들이 변화를 하고 싶어할 때 혹은 새로운 고객들이 들어올 때 \n",
    "    이 고객들을 잡아, 통신사를 사용하게끔 유도하는 것도 중요하다고 본다. "
   ]
  },
  {
   "cell_type": "code",
   "execution_count": 171,
   "metadata": {},
   "outputs": [],
   "source": [
    "import pandas as pd\n",
    "import numpy as np"
   ]
  },
  {
   "cell_type": "code",
   "execution_count": 172,
   "metadata": {},
   "outputs": [],
   "source": [
    "telecom = pd.read_csv('P3_subject1/telecom_users.csv')\n",
    "telecom = telecom.drop(['Dependents'], axis = 1)"
   ]
  },
  {
   "cell_type": "code",
   "execution_count": 173,
   "metadata": {},
   "outputs": [
    {
     "data": {
      "text/html": [
       "<div>\n",
       "<style scoped>\n",
       "    .dataframe tbody tr th:only-of-type {\n",
       "        vertical-align: middle;\n",
       "    }\n",
       "\n",
       "    .dataframe tbody tr th {\n",
       "        vertical-align: top;\n",
       "    }\n",
       "\n",
       "    .dataframe thead th {\n",
       "        text-align: right;\n",
       "    }\n",
       "</style>\n",
       "<table border=\"1\" class=\"dataframe\">\n",
       "  <thead>\n",
       "    <tr style=\"text-align: right;\">\n",
       "      <th></th>\n",
       "      <th>Unnamed: 0</th>\n",
       "      <th>customerID</th>\n",
       "      <th>gender</th>\n",
       "      <th>SeniorCitizen</th>\n",
       "      <th>Partner</th>\n",
       "      <th>tenure</th>\n",
       "      <th>PhoneService</th>\n",
       "      <th>MultipleLines</th>\n",
       "      <th>InternetService</th>\n",
       "      <th>OnlineSecurity</th>\n",
       "      <th>...</th>\n",
       "      <th>DeviceProtection</th>\n",
       "      <th>TechSupport</th>\n",
       "      <th>StreamingTV</th>\n",
       "      <th>StreamingMovies</th>\n",
       "      <th>Contract</th>\n",
       "      <th>PaperlessBilling</th>\n",
       "      <th>PaymentMethod</th>\n",
       "      <th>MonthlyCharges</th>\n",
       "      <th>TotalCharges</th>\n",
       "      <th>Churn</th>\n",
       "    </tr>\n",
       "  </thead>\n",
       "  <tbody>\n",
       "    <tr>\n",
       "      <th>0</th>\n",
       "      <td>1869</td>\n",
       "      <td>7010-BRBUU</td>\n",
       "      <td>Male</td>\n",
       "      <td>0</td>\n",
       "      <td>Yes</td>\n",
       "      <td>72</td>\n",
       "      <td>Yes</td>\n",
       "      <td>Yes</td>\n",
       "      <td>No</td>\n",
       "      <td>No internet service</td>\n",
       "      <td>...</td>\n",
       "      <td>No internet service</td>\n",
       "      <td>No internet service</td>\n",
       "      <td>No internet service</td>\n",
       "      <td>No internet service</td>\n",
       "      <td>Two year</td>\n",
       "      <td>No</td>\n",
       "      <td>Credit card (automatic)</td>\n",
       "      <td>24.10</td>\n",
       "      <td>1734.65</td>\n",
       "      <td>No</td>\n",
       "    </tr>\n",
       "    <tr>\n",
       "      <th>1</th>\n",
       "      <td>4528</td>\n",
       "      <td>9688-YGXVR</td>\n",
       "      <td>Female</td>\n",
       "      <td>0</td>\n",
       "      <td>No</td>\n",
       "      <td>44</td>\n",
       "      <td>Yes</td>\n",
       "      <td>No</td>\n",
       "      <td>Fiber optic</td>\n",
       "      <td>No</td>\n",
       "      <td>...</td>\n",
       "      <td>Yes</td>\n",
       "      <td>No</td>\n",
       "      <td>Yes</td>\n",
       "      <td>No</td>\n",
       "      <td>Month-to-month</td>\n",
       "      <td>Yes</td>\n",
       "      <td>Credit card (automatic)</td>\n",
       "      <td>88.15</td>\n",
       "      <td>3973.2</td>\n",
       "      <td>No</td>\n",
       "    </tr>\n",
       "    <tr>\n",
       "      <th>2</th>\n",
       "      <td>6344</td>\n",
       "      <td>9286-DOJGF</td>\n",
       "      <td>Female</td>\n",
       "      <td>1</td>\n",
       "      <td>Yes</td>\n",
       "      <td>38</td>\n",
       "      <td>Yes</td>\n",
       "      <td>Yes</td>\n",
       "      <td>Fiber optic</td>\n",
       "      <td>No</td>\n",
       "      <td>...</td>\n",
       "      <td>No</td>\n",
       "      <td>No</td>\n",
       "      <td>No</td>\n",
       "      <td>No</td>\n",
       "      <td>Month-to-month</td>\n",
       "      <td>Yes</td>\n",
       "      <td>Bank transfer (automatic)</td>\n",
       "      <td>74.95</td>\n",
       "      <td>2869.85</td>\n",
       "      <td>Yes</td>\n",
       "    </tr>\n",
       "    <tr>\n",
       "      <th>3</th>\n",
       "      <td>6739</td>\n",
       "      <td>6994-KERXL</td>\n",
       "      <td>Male</td>\n",
       "      <td>0</td>\n",
       "      <td>No</td>\n",
       "      <td>4</td>\n",
       "      <td>Yes</td>\n",
       "      <td>No</td>\n",
       "      <td>DSL</td>\n",
       "      <td>No</td>\n",
       "      <td>...</td>\n",
       "      <td>No</td>\n",
       "      <td>No</td>\n",
       "      <td>No</td>\n",
       "      <td>Yes</td>\n",
       "      <td>Month-to-month</td>\n",
       "      <td>Yes</td>\n",
       "      <td>Electronic check</td>\n",
       "      <td>55.90</td>\n",
       "      <td>238.5</td>\n",
       "      <td>No</td>\n",
       "    </tr>\n",
       "    <tr>\n",
       "      <th>4</th>\n",
       "      <td>432</td>\n",
       "      <td>2181-UAESM</td>\n",
       "      <td>Male</td>\n",
       "      <td>0</td>\n",
       "      <td>No</td>\n",
       "      <td>2</td>\n",
       "      <td>Yes</td>\n",
       "      <td>No</td>\n",
       "      <td>DSL</td>\n",
       "      <td>Yes</td>\n",
       "      <td>...</td>\n",
       "      <td>Yes</td>\n",
       "      <td>No</td>\n",
       "      <td>No</td>\n",
       "      <td>No</td>\n",
       "      <td>Month-to-month</td>\n",
       "      <td>No</td>\n",
       "      <td>Electronic check</td>\n",
       "      <td>53.45</td>\n",
       "      <td>119.5</td>\n",
       "      <td>No</td>\n",
       "    </tr>\n",
       "  </tbody>\n",
       "</table>\n",
       "<p>5 rows × 21 columns</p>\n",
       "</div>"
      ],
      "text/plain": [
       "   Unnamed: 0  customerID  gender  SeniorCitizen Partner  tenure PhoneService  \\\n",
       "0        1869  7010-BRBUU    Male              0     Yes      72          Yes   \n",
       "1        4528  9688-YGXVR  Female              0      No      44          Yes   \n",
       "2        6344  9286-DOJGF  Female              1     Yes      38          Yes   \n",
       "3        6739  6994-KERXL    Male              0      No       4          Yes   \n",
       "4         432  2181-UAESM    Male              0      No       2          Yes   \n",
       "\n",
       "  MultipleLines InternetService       OnlineSecurity  ...  \\\n",
       "0           Yes              No  No internet service  ...   \n",
       "1            No     Fiber optic                   No  ...   \n",
       "2           Yes     Fiber optic                   No  ...   \n",
       "3            No             DSL                   No  ...   \n",
       "4            No             DSL                  Yes  ...   \n",
       "\n",
       "      DeviceProtection          TechSupport          StreamingTV  \\\n",
       "0  No internet service  No internet service  No internet service   \n",
       "1                  Yes                   No                  Yes   \n",
       "2                   No                   No                   No   \n",
       "3                   No                   No                   No   \n",
       "4                  Yes                   No                   No   \n",
       "\n",
       "       StreamingMovies        Contract PaperlessBilling  \\\n",
       "0  No internet service        Two year               No   \n",
       "1                   No  Month-to-month              Yes   \n",
       "2                   No  Month-to-month              Yes   \n",
       "3                  Yes  Month-to-month              Yes   \n",
       "4                   No  Month-to-month               No   \n",
       "\n",
       "               PaymentMethod MonthlyCharges  TotalCharges Churn  \n",
       "0    Credit card (automatic)          24.10       1734.65    No  \n",
       "1    Credit card (automatic)          88.15        3973.2    No  \n",
       "2  Bank transfer (automatic)          74.95       2869.85   Yes  \n",
       "3           Electronic check          55.90         238.5    No  \n",
       "4           Electronic check          53.45         119.5    No  \n",
       "\n",
       "[5 rows x 21 columns]"
      ]
     },
     "execution_count": 173,
     "metadata": {},
     "output_type": "execute_result"
    }
   ],
   "source": [
    "telecom.head(5)"
   ]
  },
  {
   "cell_type": "code",
   "execution_count": 174,
   "metadata": {},
   "outputs": [
    {
     "data": {
      "text/plain": [
       "(5986, 21)"
      ]
     },
     "execution_count": 174,
     "metadata": {},
     "output_type": "execute_result"
    }
   ],
   "source": [
    "telecom.shape"
   ]
  },
  {
   "cell_type": "code",
   "execution_count": 175,
   "metadata": {},
   "outputs": [
    {
     "name": "stdout",
     "output_type": "stream",
     "text": [
      "<class 'pandas.core.frame.DataFrame'>\n",
      "RangeIndex: 5986 entries, 0 to 5985\n",
      "Data columns (total 21 columns):\n",
      " #   Column            Non-Null Count  Dtype  \n",
      "---  ------            --------------  -----  \n",
      " 0   Unnamed: 0        5986 non-null   int64  \n",
      " 1   customerID        5986 non-null   object \n",
      " 2   gender            5986 non-null   object \n",
      " 3   SeniorCitizen     5986 non-null   int64  \n",
      " 4   Partner           5986 non-null   object \n",
      " 5   tenure            5986 non-null   int64  \n",
      " 6   PhoneService      5986 non-null   object \n",
      " 7   MultipleLines     5986 non-null   object \n",
      " 8   InternetService   5986 non-null   object \n",
      " 9   OnlineSecurity    5986 non-null   object \n",
      " 10  OnlineBackup      5986 non-null   object \n",
      " 11  DeviceProtection  5986 non-null   object \n",
      " 12  TechSupport       5986 non-null   object \n",
      " 13  StreamingTV       5986 non-null   object \n",
      " 14  StreamingMovies   5986 non-null   object \n",
      " 15  Contract          5986 non-null   object \n",
      " 16  PaperlessBilling  5986 non-null   object \n",
      " 17  PaymentMethod     5986 non-null   object \n",
      " 18  MonthlyCharges    5986 non-null   float64\n",
      " 19  TotalCharges      5986 non-null   object \n",
      " 20  Churn             5986 non-null   object \n",
      "dtypes: float64(1), int64(3), object(17)\n",
      "memory usage: 982.2+ KB\n"
     ]
    }
   ],
   "source": [
    "telecom.info()"
   ]
  },
  {
   "cell_type": "code",
   "execution_count": 313,
   "metadata": {},
   "outputs": [
    {
     "data": {
      "text/html": [
       "<div>\n",
       "<style scoped>\n",
       "    .dataframe tbody tr th:only-of-type {\n",
       "        vertical-align: middle;\n",
       "    }\n",
       "\n",
       "    .dataframe tbody tr th {\n",
       "        vertical-align: top;\n",
       "    }\n",
       "\n",
       "    .dataframe thead th {\n",
       "        text-align: right;\n",
       "    }\n",
       "</style>\n",
       "<table border=\"1\" class=\"dataframe\">\n",
       "  <thead>\n",
       "    <tr style=\"text-align: right;\">\n",
       "      <th></th>\n",
       "      <th>coloumns</th>\n",
       "      <th>explain</th>\n",
       "      <th>kor_explain</th>\n",
       "    </tr>\n",
       "  </thead>\n",
       "  <tbody>\n",
       "    <tr>\n",
       "      <th>0</th>\n",
       "      <td>customerID</td>\n",
       "      <td>customer id</td>\n",
       "      <td>고객ID</td>\n",
       "    </tr>\n",
       "    <tr>\n",
       "      <th>1</th>\n",
       "      <td>gender</td>\n",
       "      <td>client gender (male / female)</td>\n",
       "      <td>성별</td>\n",
       "    </tr>\n",
       "    <tr>\n",
       "      <th>2</th>\n",
       "      <td>SeniorCitizen</td>\n",
       "      <td>is the client retired (1, 0)</td>\n",
       "      <td>시니어시티즌(고령여부)</td>\n",
       "    </tr>\n",
       "    <tr>\n",
       "      <th>3</th>\n",
       "      <td>Partner</td>\n",
       "      <td>is the client married (Yes, No)</td>\n",
       "      <td>파트너의 유무</td>\n",
       "    </tr>\n",
       "    <tr>\n",
       "      <th>4</th>\n",
       "      <td>tenure</td>\n",
       "      <td>how many months a person has been a client of ...</td>\n",
       "      <td>종신 재직원( 회사에 머문 월 수)</td>\n",
       "    </tr>\n",
       "    <tr>\n",
       "      <th>5</th>\n",
       "      <td>PhoneService</td>\n",
       "      <td>is the telephone service connected (Yes, No)</td>\n",
       "      <td>전화 서비스</td>\n",
       "    </tr>\n",
       "    <tr>\n",
       "      <th>6</th>\n",
       "      <td>MultipleLines</td>\n",
       "      <td>are multiple phone lines connected (Yes, No, N...</td>\n",
       "      <td>다중 선 (여러 회선을 가지고 있는지)</td>\n",
       "    </tr>\n",
       "    <tr>\n",
       "      <th>7</th>\n",
       "      <td>InternetService</td>\n",
       "      <td>client's Internet service provider (DSL, Fiber...</td>\n",
       "      <td>인터넷 서비스</td>\n",
       "    </tr>\n",
       "    <tr>\n",
       "      <th>8</th>\n",
       "      <td>OnlineSecurity</td>\n",
       "      <td>is the online security service connected (Yes,...</td>\n",
       "      <td>온라인 보안 유무</td>\n",
       "    </tr>\n",
       "    <tr>\n",
       "      <th>9</th>\n",
       "      <td>OnlineBackup</td>\n",
       "      <td>is the online backup service activated (Yes, N...</td>\n",
       "      <td>온라인 백업 유무</td>\n",
       "    </tr>\n",
       "    <tr>\n",
       "      <th>10</th>\n",
       "      <td>DeviceProtection</td>\n",
       "      <td>does the client have equipment insurance (Yes,...</td>\n",
       "      <td>기기 보험 유무</td>\n",
       "    </tr>\n",
       "    <tr>\n",
       "      <th>11</th>\n",
       "      <td>TechSupport</td>\n",
       "      <td>is the technical support service connected (Ye...</td>\n",
       "      <td>기술 서포트 유무</td>\n",
       "    </tr>\n",
       "    <tr>\n",
       "      <th>12</th>\n",
       "      <td>StreamingTV</td>\n",
       "      <td>is the streaming TV service connected (Yes, No...</td>\n",
       "      <td>스트리밍TV 서비스 유무</td>\n",
       "    </tr>\n",
       "    <tr>\n",
       "      <th>13</th>\n",
       "      <td>StreamingMovies</td>\n",
       "      <td>is the streaming cinema service activated (Yes...</td>\n",
       "      <td>스트리밍동영상 서비스 유무</td>\n",
       "    </tr>\n",
       "    <tr>\n",
       "      <th>14</th>\n",
       "      <td>Contract</td>\n",
       "      <td>type of customer contract (Month-to-month, One...</td>\n",
       "      <td>계약</td>\n",
       "    </tr>\n",
       "    <tr>\n",
       "      <th>15</th>\n",
       "      <td>PaperlessBilling</td>\n",
       "      <td>whether the client uses paperless billing (Yes...</td>\n",
       "      <td>종이 없는 청구</td>\n",
       "    </tr>\n",
       "    <tr>\n",
       "      <th>16</th>\n",
       "      <td>PaymentMethod</td>\n",
       "      <td>payment method (Electronic check, Mailed check...</td>\n",
       "      <td>결제 방법</td>\n",
       "    </tr>\n",
       "    <tr>\n",
       "      <th>17</th>\n",
       "      <td>MonthlyCharges</td>\n",
       "      <td>current monthly payment</td>\n",
       "      <td>월별 요금</td>\n",
       "    </tr>\n",
       "    <tr>\n",
       "      <th>18</th>\n",
       "      <td>TotalCharges</td>\n",
       "      <td>he total amount that the client paid for the s...</td>\n",
       "      <td>총 요금</td>\n",
       "    </tr>\n",
       "    <tr>\n",
       "      <th>19</th>\n",
       "      <td>Churn</td>\n",
       "      <td>whether there was a churn (Yes or No)</td>\n",
       "      <td>고객 이탈 유무</td>\n",
       "    </tr>\n",
       "  </tbody>\n",
       "</table>\n",
       "</div>"
      ],
      "text/plain": [
       "             coloumns                                            explain  \\\n",
       "0          customerID                                        customer id   \n",
       "1             gender                       client gender (male / female)   \n",
       "2      SeniorCitizen                        is the client retired (1, 0)   \n",
       "3            Partner                     is the client married (Yes, No)   \n",
       "4             tenure   how many months a person has been a client of ...   \n",
       "5       PhoneService        is the telephone service connected (Yes, No)   \n",
       "6      MultipleLines   are multiple phone lines connected (Yes, No, N...   \n",
       "7    InternetService   client's Internet service provider (DSL, Fiber...   \n",
       "8     OnlineSecurity   is the online security service connected (Yes,...   \n",
       "9       OnlineBackup   is the online backup service activated (Yes, N...   \n",
       "10  DeviceProtection   does the client have equipment insurance (Yes,...   \n",
       "11       TechSupport   is the technical support service connected (Ye...   \n",
       "12       StreamingTV   is the streaming TV service connected (Yes, No...   \n",
       "13   StreamingMovies   is the streaming cinema service activated (Yes...   \n",
       "14          Contract   type of customer contract (Month-to-month, One...   \n",
       "15  PaperlessBilling   whether the client uses paperless billing (Yes...   \n",
       "16     PaymentMethod   payment method (Electronic check, Mailed check...   \n",
       "17    MonthlyCharges                             current monthly payment   \n",
       "18      TotalCharges   he total amount that the client paid for the s...   \n",
       "19             Churn               whether there was a churn (Yes or No)   \n",
       "\n",
       "              kor_explain  \n",
       "0                    고객ID  \n",
       "1                      성별  \n",
       "2            시니어시티즌(고령여부)  \n",
       "3                 파트너의 유무  \n",
       "4     종신 재직원( 회사에 머문 월 수)  \n",
       "5                  전화 서비스  \n",
       "6   다중 선 (여러 회선을 가지고 있는지)  \n",
       "7                 인터넷 서비스  \n",
       "8               온라인 보안 유무  \n",
       "9               온라인 백업 유무  \n",
       "10               기기 보험 유무  \n",
       "11              기술 서포트 유무  \n",
       "12          스트리밍TV 서비스 유무  \n",
       "13         스트리밍동영상 서비스 유무  \n",
       "14                     계약  \n",
       "15               종이 없는 청구  \n",
       "16                  결제 방법  \n",
       "17                  월별 요금  \n",
       "18                   총 요금  \n",
       "19               고객 이탈 유무  "
      ]
     },
     "execution_count": 313,
     "metadata": {},
     "output_type": "execute_result"
    }
   ],
   "source": [
    "#데이터 딕셔너리\n",
    "pd.read_csv('P3_subject1/telecom_data_dictionary.csv')"
   ]
  },
  {
   "cell_type": "markdown",
   "metadata": {},
   "source": [
    "데이터를 설명하는 사전은 위와 같이 존재한다. \n",
    "여기서 설명을 하자면, 크게 1. 한달 이내 이탈한 고객을 뜻하는 churn 2. 각 고객이 가입한 서비스 3.고객 계정 정보  4.고객에 대한 인구 통계 정보로 나눠진다. \n",
    "- 2번의 경우 전화, 여러 회선, 인터넷, 온라인 보안, 온라인 백업, 장치 보호, 기술 지원, 스트리밍TV및동영상\n",
    "- 3번의 경우 고객, 계약, 결제 방법, 종이없는 청구서, 월별 요금 및 총 요금 \n",
    "- 4번의 경우 성별, 연령대, 파트너 및 부양가족이 있는 경우\n",
    "로 나타낸다. "
   ]
  },
  {
   "cell_type": "code",
   "execution_count": 177,
   "metadata": {},
   "outputs": [],
   "source": [
    "#각 열의 결측값이 없다는 것을 알 수 있다."
   ]
  },
  {
   "cell_type": "code",
   "execution_count": 178,
   "metadata": {},
   "outputs": [
    {
     "data": {
      "text/plain": [
       "array([[1869, '7010-BRBUU', 'Male', ..., 24.1, '1734.65', 'No'],\n",
       "       [4528, '9688-YGXVR', 'Female', ..., 88.15, '3973.2', 'No'],\n",
       "       [6344, '9286-DOJGF', 'Female', ..., 74.95, '2869.85', 'Yes'],\n",
       "       ...,\n",
       "       [5226, '8044-BGWPI', 'Male', ..., 21.15, '306.05', 'No'],\n",
       "       [5390, '7450-NWRTR', 'Male', ..., 99.45, '1200.15', 'Yes'],\n",
       "       [860, '4795-UXVCJ', 'Male', ..., 19.8, '457.3', 'No']],\n",
       "      dtype=object)"
      ]
     },
     "execution_count": 178,
     "metadata": {},
     "output_type": "execute_result"
    }
   ],
   "source": [
    "#각 열의 행만 가져온다면\n",
    "telecom.columns\n",
    "#각 열의 인덱스만 가져온다면\n",
    "telecom.index\n",
    "#각 열의 데이터 가져온다면\n",
    "telecom.to_numpy()"
   ]
  },
  {
   "cell_type": "code",
   "execution_count": 179,
   "metadata": {},
   "outputs": [
    {
     "data": {
      "text/plain": [
       "<bound method IndexOpsMixin.value_counts of Unnamed: 0            int64\n",
       "customerID           object\n",
       "gender               object\n",
       "SeniorCitizen         int64\n",
       "Partner              object\n",
       "tenure                int64\n",
       "PhoneService         object\n",
       "MultipleLines        object\n",
       "InternetService      object\n",
       "OnlineSecurity       object\n",
       "OnlineBackup         object\n",
       "DeviceProtection     object\n",
       "TechSupport          object\n",
       "StreamingTV          object\n",
       "StreamingMovies      object\n",
       "Contract             object\n",
       "PaperlessBilling     object\n",
       "PaymentMethod        object\n",
       "MonthlyCharges      float64\n",
       "TotalCharges         object\n",
       "Churn                object\n",
       "dtype: object>"
      ]
     },
     "execution_count": 179,
     "metadata": {},
     "output_type": "execute_result"
    }
   ],
   "source": [
    "#info를 확인해보면 \n",
    "#dtypes: float64(1), int64(3), object(18)\n",
    "telecom.dtypes.value_counts"
   ]
  },
  {
   "cell_type": "code",
   "execution_count": 180,
   "metadata": {},
   "outputs": [
    {
     "data": {
      "text/plain": [
       "Unnamed: 0          0\n",
       "customerID          0\n",
       "gender              0\n",
       "SeniorCitizen       0\n",
       "Partner             0\n",
       "tenure              0\n",
       "PhoneService        0\n",
       "MultipleLines       0\n",
       "InternetService     0\n",
       "OnlineSecurity      0\n",
       "OnlineBackup        0\n",
       "DeviceProtection    0\n",
       "TechSupport         0\n",
       "StreamingTV         0\n",
       "StreamingMovies     0\n",
       "Contract            0\n",
       "PaperlessBilling    0\n",
       "PaymentMethod       0\n",
       "MonthlyCharges      0\n",
       "TotalCharges        0\n",
       "Churn               0\n",
       "dtype: int64"
      ]
     },
     "execution_count": 180,
     "metadata": {},
     "output_type": "execute_result"
    }
   ],
   "source": [
    "telecom.isna().sum()"
   ]
  },
  {
   "cell_type": "code",
   "execution_count": 181,
   "metadata": {},
   "outputs": [
    {
     "data": {
      "text/plain": [
       "No     0.734881\n",
       "Yes    0.265119\n",
       "Name: Churn, dtype: float64"
      ]
     },
     "execution_count": 181,
     "metadata": {},
     "output_type": "execute_result"
    }
   ],
   "source": [
    "telecom.Churn.value_counts(normalize= True)"
   ]
  },
  {
   "cell_type": "code",
   "execution_count": 182,
   "metadata": {},
   "outputs": [
    {
     "data": {
      "text/html": [
       "<div>\n",
       "<style scoped>\n",
       "    .dataframe tbody tr th:only-of-type {\n",
       "        vertical-align: middle;\n",
       "    }\n",
       "\n",
       "    .dataframe tbody tr th {\n",
       "        vertical-align: top;\n",
       "    }\n",
       "\n",
       "    .dataframe thead th {\n",
       "        text-align: right;\n",
       "    }\n",
       "</style>\n",
       "<table border=\"1\" class=\"dataframe\">\n",
       "  <thead>\n",
       "    <tr style=\"text-align: right;\">\n",
       "      <th></th>\n",
       "      <th>count</th>\n",
       "      <th>unique</th>\n",
       "      <th>top</th>\n",
       "      <th>freq</th>\n",
       "    </tr>\n",
       "  </thead>\n",
       "  <tbody>\n",
       "    <tr>\n",
       "      <th>customerID</th>\n",
       "      <td>5986</td>\n",
       "      <td>5986</td>\n",
       "      <td>9214-EKVXR</td>\n",
       "      <td>1</td>\n",
       "    </tr>\n",
       "    <tr>\n",
       "      <th>gender</th>\n",
       "      <td>5986</td>\n",
       "      <td>2</td>\n",
       "      <td>Male</td>\n",
       "      <td>3050</td>\n",
       "    </tr>\n",
       "    <tr>\n",
       "      <th>Partner</th>\n",
       "      <td>5986</td>\n",
       "      <td>2</td>\n",
       "      <td>No</td>\n",
       "      <td>3082</td>\n",
       "    </tr>\n",
       "    <tr>\n",
       "      <th>PhoneService</th>\n",
       "      <td>5986</td>\n",
       "      <td>2</td>\n",
       "      <td>Yes</td>\n",
       "      <td>5396</td>\n",
       "    </tr>\n",
       "    <tr>\n",
       "      <th>MultipleLines</th>\n",
       "      <td>5986</td>\n",
       "      <td>3</td>\n",
       "      <td>No</td>\n",
       "      <td>2848</td>\n",
       "    </tr>\n",
       "    <tr>\n",
       "      <th>InternetService</th>\n",
       "      <td>5986</td>\n",
       "      <td>3</td>\n",
       "      <td>Fiber optic</td>\n",
       "      <td>2627</td>\n",
       "    </tr>\n",
       "    <tr>\n",
       "      <th>OnlineSecurity</th>\n",
       "      <td>5986</td>\n",
       "      <td>3</td>\n",
       "      <td>No</td>\n",
       "      <td>2982</td>\n",
       "    </tr>\n",
       "    <tr>\n",
       "      <th>OnlineBackup</th>\n",
       "      <td>5986</td>\n",
       "      <td>3</td>\n",
       "      <td>No</td>\n",
       "      <td>2605</td>\n",
       "    </tr>\n",
       "    <tr>\n",
       "      <th>DeviceProtection</th>\n",
       "      <td>5986</td>\n",
       "      <td>3</td>\n",
       "      <td>No</td>\n",
       "      <td>2640</td>\n",
       "    </tr>\n",
       "    <tr>\n",
       "      <th>TechSupport</th>\n",
       "      <td>5986</td>\n",
       "      <td>3</td>\n",
       "      <td>No</td>\n",
       "      <td>2960</td>\n",
       "    </tr>\n",
       "    <tr>\n",
       "      <th>StreamingTV</th>\n",
       "      <td>5986</td>\n",
       "      <td>3</td>\n",
       "      <td>No</td>\n",
       "      <td>2389</td>\n",
       "    </tr>\n",
       "    <tr>\n",
       "      <th>StreamingMovies</th>\n",
       "      <td>5986</td>\n",
       "      <td>3</td>\n",
       "      <td>No</td>\n",
       "      <td>2356</td>\n",
       "    </tr>\n",
       "    <tr>\n",
       "      <th>Contract</th>\n",
       "      <td>5986</td>\n",
       "      <td>3</td>\n",
       "      <td>Month-to-month</td>\n",
       "      <td>3269</td>\n",
       "    </tr>\n",
       "    <tr>\n",
       "      <th>PaperlessBilling</th>\n",
       "      <td>5986</td>\n",
       "      <td>2</td>\n",
       "      <td>Yes</td>\n",
       "      <td>3528</td>\n",
       "    </tr>\n",
       "    <tr>\n",
       "      <th>PaymentMethod</th>\n",
       "      <td>5986</td>\n",
       "      <td>4</td>\n",
       "      <td>Electronic check</td>\n",
       "      <td>2006</td>\n",
       "    </tr>\n",
       "    <tr>\n",
       "      <th>TotalCharges</th>\n",
       "      <td>5986</td>\n",
       "      <td>5611</td>\n",
       "      <td>20.2</td>\n",
       "      <td>10</td>\n",
       "    </tr>\n",
       "    <tr>\n",
       "      <th>Churn</th>\n",
       "      <td>5986</td>\n",
       "      <td>2</td>\n",
       "      <td>No</td>\n",
       "      <td>4399</td>\n",
       "    </tr>\n",
       "  </tbody>\n",
       "</table>\n",
       "</div>"
      ],
      "text/plain": [
       "                 count unique               top  freq\n",
       "customerID        5986   5986        9214-EKVXR     1\n",
       "gender            5986      2              Male  3050\n",
       "Partner           5986      2                No  3082\n",
       "PhoneService      5986      2               Yes  5396\n",
       "MultipleLines     5986      3                No  2848\n",
       "InternetService   5986      3       Fiber optic  2627\n",
       "OnlineSecurity    5986      3                No  2982\n",
       "OnlineBackup      5986      3                No  2605\n",
       "DeviceProtection  5986      3                No  2640\n",
       "TechSupport       5986      3                No  2960\n",
       "StreamingTV       5986      3                No  2389\n",
       "StreamingMovies   5986      3                No  2356\n",
       "Contract          5986      3    Month-to-month  3269\n",
       "PaperlessBilling  5986      2               Yes  3528\n",
       "PaymentMethod     5986      4  Electronic check  2006\n",
       "TotalCharges      5986   5611              20.2    10\n",
       "Churn             5986      2                No  4399"
      ]
     },
     "execution_count": 182,
     "metadata": {},
     "output_type": "execute_result"
    }
   ],
   "source": [
    "#describe를 통한 기술통계\n",
    "telecom.describe(include ='object').T"
   ]
  },
  {
   "cell_type": "code",
   "execution_count": 183,
   "metadata": {},
   "outputs": [
    {
     "data": {
      "text/html": [
       "<div>\n",
       "<style scoped>\n",
       "    .dataframe tbody tr th:only-of-type {\n",
       "        vertical-align: middle;\n",
       "    }\n",
       "\n",
       "    .dataframe tbody tr th {\n",
       "        vertical-align: top;\n",
       "    }\n",
       "\n",
       "    .dataframe thead th {\n",
       "        text-align: right;\n",
       "    }\n",
       "</style>\n",
       "<table border=\"1\" class=\"dataframe\">\n",
       "  <thead>\n",
       "    <tr style=\"text-align: right;\">\n",
       "      <th></th>\n",
       "      <th>Unnamed: 0</th>\n",
       "      <th>SeniorCitizen</th>\n",
       "      <th>tenure</th>\n",
       "      <th>MonthlyCharges</th>\n",
       "    </tr>\n",
       "  </thead>\n",
       "  <tbody>\n",
       "    <tr>\n",
       "      <th>count</th>\n",
       "      <td>5986.000000</td>\n",
       "      <td>5986.000000</td>\n",
       "      <td>5986.000000</td>\n",
       "      <td>5986.000000</td>\n",
       "    </tr>\n",
       "    <tr>\n",
       "      <th>mean</th>\n",
       "      <td>3533.561310</td>\n",
       "      <td>0.161377</td>\n",
       "      <td>32.468760</td>\n",
       "      <td>64.802213</td>\n",
       "    </tr>\n",
       "    <tr>\n",
       "      <th>std</th>\n",
       "      <td>2035.705666</td>\n",
       "      <td>0.367909</td>\n",
       "      <td>24.516391</td>\n",
       "      <td>30.114702</td>\n",
       "    </tr>\n",
       "    <tr>\n",
       "      <th>min</th>\n",
       "      <td>0.000000</td>\n",
       "      <td>0.000000</td>\n",
       "      <td>0.000000</td>\n",
       "      <td>18.250000</td>\n",
       "    </tr>\n",
       "    <tr>\n",
       "      <th>25%</th>\n",
       "      <td>1777.250000</td>\n",
       "      <td>0.000000</td>\n",
       "      <td>9.000000</td>\n",
       "      <td>35.650000</td>\n",
       "    </tr>\n",
       "    <tr>\n",
       "      <th>50%</th>\n",
       "      <td>3546.500000</td>\n",
       "      <td>0.000000</td>\n",
       "      <td>29.000000</td>\n",
       "      <td>70.400000</td>\n",
       "    </tr>\n",
       "    <tr>\n",
       "      <th>75%</th>\n",
       "      <td>5291.750000</td>\n",
       "      <td>0.000000</td>\n",
       "      <td>56.000000</td>\n",
       "      <td>89.900000</td>\n",
       "    </tr>\n",
       "    <tr>\n",
       "      <th>max</th>\n",
       "      <td>7042.000000</td>\n",
       "      <td>1.000000</td>\n",
       "      <td>72.000000</td>\n",
       "      <td>118.750000</td>\n",
       "    </tr>\n",
       "  </tbody>\n",
       "</table>\n",
       "</div>"
      ],
      "text/plain": [
       "        Unnamed: 0  SeniorCitizen       tenure  MonthlyCharges\n",
       "count  5986.000000    5986.000000  5986.000000     5986.000000\n",
       "mean   3533.561310       0.161377    32.468760       64.802213\n",
       "std    2035.705666       0.367909    24.516391       30.114702\n",
       "min       0.000000       0.000000     0.000000       18.250000\n",
       "25%    1777.250000       0.000000     9.000000       35.650000\n",
       "50%    3546.500000       0.000000    29.000000       70.400000\n",
       "75%    5291.750000       0.000000    56.000000       89.900000\n",
       "max    7042.000000       1.000000    72.000000      118.750000"
      ]
     },
     "execution_count": 183,
     "metadata": {},
     "output_type": "execute_result"
    }
   ],
   "source": [
    "telecom.describe()"
   ]
  },
  {
   "cell_type": "code",
   "execution_count": 184,
   "metadata": {},
   "outputs": [],
   "source": [
    "# 데이터 용량 줄이기"
   ]
  },
  {
   "cell_type": "code",
   "execution_count": 185,
   "metadata": {},
   "outputs": [
    {
     "name": "stdout",
     "output_type": "stream",
     "text": [
      "<class 'pandas.core.frame.DataFrame'>\n",
      "RangeIndex: 5986 entries, 0 to 5985\n",
      "Data columns (total 21 columns):\n",
      " #   Column            Non-Null Count  Dtype  \n",
      "---  ------            --------------  -----  \n",
      " 0   Unnamed: 0        5986 non-null   int64  \n",
      " 1   customerID        5986 non-null   object \n",
      " 2   gender            5986 non-null   object \n",
      " 3   SeniorCitizen     5986 non-null   int64  \n",
      " 4   Partner           5986 non-null   object \n",
      " 5   tenure            5986 non-null   int64  \n",
      " 6   PhoneService      5986 non-null   object \n",
      " 7   MultipleLines     5986 non-null   object \n",
      " 8   InternetService   5986 non-null   object \n",
      " 9   OnlineSecurity    5986 non-null   object \n",
      " 10  OnlineBackup      5986 non-null   object \n",
      " 11  DeviceProtection  5986 non-null   object \n",
      " 12  TechSupport       5986 non-null   object \n",
      " 13  StreamingTV       5986 non-null   object \n",
      " 14  StreamingMovies   5986 non-null   object \n",
      " 15  Contract          5986 non-null   object \n",
      " 16  PaperlessBilling  5986 non-null   object \n",
      " 17  PaymentMethod     5986 non-null   object \n",
      " 18  MonthlyCharges    5986 non-null   float64\n",
      " 19  TotalCharges      5986 non-null   object \n",
      " 20  Churn             5986 non-null   object \n",
      "dtypes: float64(1), int64(3), object(17)\n",
      "memory usage: 982.2+ KB\n"
     ]
    }
   ],
   "source": [
    "telecom.info()"
   ]
  },
  {
   "cell_type": "code",
   "execution_count": 186,
   "metadata": {},
   "outputs": [
    {
     "data": {
      "text/plain": [
       "Index                  128\n",
       "Unnamed: 0           47888\n",
       "customerID          401062\n",
       "gender              371018\n",
       "SeniorCitizen        47888\n",
       "Partner             356078\n",
       "tenure               47888\n",
       "PhoneService        358570\n",
       "MultipleLines       363982\n",
       "InternetService     378885\n",
       "OnlineSecurity      376834\n",
       "OnlineBackup        377211\n",
       "DeviceProtection    377176\n",
       "TechSupport         376856\n",
       "StreamingTV         377427\n",
       "StreamingMovies     377460\n",
       "Contract            408704\n",
       "PaperlessBilling    356702\n",
       "PaymentMethod       452395\n",
       "MonthlyCharges       47888\n",
       "TotalCharges        376432\n",
       "Churn               354761\n",
       "dtype: int64"
      ]
     },
     "execution_count": 186,
     "metadata": {},
     "output_type": "execute_result"
    }
   ],
   "source": [
    "telecom.memory_usage(deep=True)"
   ]
  },
  {
   "cell_type": "code",
   "execution_count": 187,
   "metadata": {},
   "outputs": [],
   "source": [
    "#1. int64 형태 알아보기\n",
    "#SeniorCitizen의 경우 1,0으로 나누어져 있어 int64의 값이 필요 없음, int8형태로 변환 #47888\n",
    "telecom['SeniorCitizen'] = telecom['SeniorCitizen'].astype('category')"
   ]
  },
  {
   "cell_type": "code",
   "execution_count": 188,
   "metadata": {},
   "outputs": [
    {
     "data": {
      "text/plain": [
       "Index                  128\n",
       "Unnamed: 0           47888\n",
       "customerID          401062\n",
       "gender              371018\n",
       "SeniorCitizen         6082\n",
       "Partner             356078\n",
       "tenure               47888\n",
       "PhoneService        358570\n",
       "MultipleLines       363982\n",
       "InternetService     378885\n",
       "OnlineSecurity      376834\n",
       "OnlineBackup        377211\n",
       "DeviceProtection    377176\n",
       "TechSupport         376856\n",
       "StreamingTV         377427\n",
       "StreamingMovies     377460\n",
       "Contract            408704\n",
       "PaperlessBilling    356702\n",
       "PaymentMethod       452395\n",
       "MonthlyCharges       47888\n",
       "TotalCharges        376432\n",
       "Churn               354761\n",
       "dtype: int64"
      ]
     },
     "execution_count": 188,
     "metadata": {},
     "output_type": "execute_result"
    }
   ],
   "source": [
    "telecom.memory_usage(deep=True) #6082"
   ]
  },
  {
   "cell_type": "code",
   "execution_count": 189,
   "metadata": {},
   "outputs": [
    {
     "name": "stdout",
     "output_type": "stream",
     "text": [
      "12.700467758102238 %\n"
     ]
    }
   ],
   "source": [
    "print(6082 / 47888 * 100, '%')"
   ]
  },
  {
   "cell_type": "code",
   "execution_count": 190,
   "metadata": {},
   "outputs": [
    {
     "data": {
      "text/plain": [
       "customerID          5986\n",
       "gender                 2\n",
       "Partner                2\n",
       "PhoneService           2\n",
       "MultipleLines          3\n",
       "InternetService        3\n",
       "OnlineSecurity         3\n",
       "OnlineBackup           3\n",
       "DeviceProtection       3\n",
       "TechSupport            3\n",
       "StreamingTV            3\n",
       "StreamingMovies        3\n",
       "Contract               3\n",
       "PaperlessBilling       2\n",
       "PaymentMethod          4\n",
       "TotalCharges        5611\n",
       "Churn                  2\n",
       "dtype: int64"
      ]
     },
     "execution_count": 190,
     "metadata": {},
     "output_type": "execute_result"
    }
   ],
   "source": [
    "#2. object형을 category로!\n",
    "#customerID, TotalCharges를 제외한 나머지는 category형으로\n",
    "telecom.select_dtypes(include=['object']).nunique()"
   ]
  },
  {
   "cell_type": "code",
   "execution_count": 191,
   "metadata": {},
   "outputs": [],
   "source": [
    "telecom['gender'] = telecom['gender'].astype('category')\n",
    "telecom['Partner'] = telecom['Partner'].astype('category')\n",
    "telecom['PhoneService'] = telecom['PhoneService'].astype('category')\n",
    "telecom['MultipleLines'] = telecom['MultipleLines'].astype('category')\n",
    "telecom['InternetService'] = telecom['InternetService'].astype('category')\n",
    "telecom['OnlineSecurity'] = telecom['OnlineSecurity'].astype('category')\n",
    "telecom['OnlineBackup'] = telecom['OnlineBackup'].astype('category')\n",
    "telecom['DeviceProtection'] = telecom['DeviceProtection'].astype('category')\n",
    "telecom['TechSupport'] = telecom['TechSupport'].astype('category')\n",
    "telecom['StreamingTV'] = telecom['StreamingTV'].astype('category')\n",
    "telecom['StreamingMovies'] = telecom['StreamingMovies'].astype('category')\n",
    "telecom['Contract'] = telecom['Contract'].astype('category')\n",
    "telecom['PaperlessBilling'] = telecom['PaperlessBilling'].astype('category')\n",
    "telecom['PaymentMethod'] = telecom['PaymentMethod'].astype('category')\n",
    "telecom['Churn'] = telecom['Churn'].astype('category')\n",
    "#telecom['TotalCharges'] = telecom['TotalCharges'].astype(np.float64)"
   ]
  },
  {
   "cell_type": "code",
   "execution_count": 192,
   "metadata": {},
   "outputs": [
    {
     "data": {
      "text/plain": [
       "Index                  128\n",
       "Unnamed: 0           47888\n",
       "customerID          401062\n",
       "gender                6190\n",
       "SeniorCitizen         6082\n",
       "Partner               6185\n",
       "tenure               47888\n",
       "PhoneService          6185\n",
       "MultipleLines         6258\n",
       "InternetService       6253\n",
       "OnlineSecurity        6261\n",
       "OnlineBackup          6261\n",
       "DeviceProtection      6261\n",
       "TechSupport           6261\n",
       "StreamingTV           6261\n",
       "StreamingMovies       6261\n",
       "Contract              6267\n",
       "PaperlessBilling      6185\n",
       "PaymentMethod         6450\n",
       "MonthlyCharges       47888\n",
       "TotalCharges        376432\n",
       "Churn                 6185\n",
       "dtype: int64"
      ]
     },
     "execution_count": 192,
     "metadata": {},
     "output_type": "execute_result"
    }
   ],
   "source": [
    "telecom.memory_usage(deep=True)"
   ]
  },
  {
   "cell_type": "code",
   "execution_count": 193,
   "metadata": {},
   "outputs": [
    {
     "name": "stdout",
     "output_type": "stream",
     "text": [
      "<class 'pandas.core.frame.DataFrame'>\n",
      "RangeIndex: 5986 entries, 0 to 5985\n",
      "Data columns (total 21 columns):\n",
      " #   Column            Non-Null Count  Dtype   \n",
      "---  ------            --------------  -----   \n",
      " 0   Unnamed: 0        5986 non-null   int64   \n",
      " 1   customerID        5986 non-null   object  \n",
      " 2   gender            5986 non-null   category\n",
      " 3   SeniorCitizen     5986 non-null   category\n",
      " 4   Partner           5986 non-null   category\n",
      " 5   tenure            5986 non-null   int64   \n",
      " 6   PhoneService      5986 non-null   category\n",
      " 7   MultipleLines     5986 non-null   category\n",
      " 8   InternetService   5986 non-null   category\n",
      " 9   OnlineSecurity    5986 non-null   category\n",
      " 10  OnlineBackup      5986 non-null   category\n",
      " 11  DeviceProtection  5986 non-null   category\n",
      " 12  TechSupport       5986 non-null   category\n",
      " 13  StreamingTV       5986 non-null   category\n",
      " 14  StreamingMovies   5986 non-null   category\n",
      " 15  Contract          5986 non-null   category\n",
      " 16  PaperlessBilling  5986 non-null   category\n",
      " 17  PaymentMethod     5986 non-null   category\n",
      " 18  MonthlyCharges    5986 non-null   float64 \n",
      " 19  TotalCharges      5986 non-null   object  \n",
      " 20  Churn             5986 non-null   category\n",
      "dtypes: category(16), float64(1), int64(2), object(2)\n",
      "memory usage: 329.1+ KB\n"
     ]
    }
   ],
   "source": [
    "telecom.info()"
   ]
  },
  {
   "cell_type": "code",
   "execution_count": 194,
   "metadata": {},
   "outputs": [],
   "source": [
    "#메모리 용량이 982.2+ KB -> 329.1+KB으로 절반 이상이 줄어듦을 알 수 있다! -> 용량 줄이기 성공!"
   ]
  },
  {
   "cell_type": "markdown",
   "metadata": {},
   "source": [
    "2. 본격적인 데이터 탐색과 분석 포인트 설명"
   ]
  },
  {
   "cell_type": "markdown",
   "metadata": {},
   "source": [
    "- 분석 포인트 \n",
    "1. 서비스를 받는 사람들이 매달 요금 내는 정도는 과연 어느 편에 속할 것인가? \n",
    "2. 서비스를 받는 사람들은 기기 보험을 들었을 것인가? \n",
    "3. 기기 보험을 든 사람들은 요금을 많이 내는 쪽인가, 적게 내는 쪽인가? \n",
    "4. 서비스를 받는 사람들은 Contract, InternetService는 어떻게 분포되어있는가? "
   ]
  },
  {
   "cell_type": "code",
   "execution_count": 195,
   "metadata": {},
   "outputs": [
    {
     "name": "stdout",
     "output_type": "stream",
     "text": [
      "cols: ['PhoneService', 'InternetService']\n",
      "cols: ['OnlineSecurity', 'OnlineBackup']\n",
      "cols: ['StreamingTV', 'StreamingMovies']\n",
      "cols: ['TechSupport']\n",
      "cols_all: ['PhoneService', 'InternetService'] ['OnlineSecurity', 'OnlineBackup'] ['StreamingTV', 'StreamingMovies'] ['TechSupport']\n"
     ]
    }
   ],
   "source": [
    "#filter 함수 적용하기 #telecom 관련 서비스만 \n",
    "#기준 : **서비스를 connected 하는가를 다루는 열들만 \n",
    "cols_one = [ c for c in telecom.columns if 'Service' in c]\n",
    "print('cols:', cols_one)\n",
    "cols_two = [ c for c in telecom.columns if 'Online' in c]\n",
    "print('cols:', cols_two)\n",
    "cols_third = [ c for c in telecom.columns if 'Streaming' in c]\n",
    "print('cols:', cols_third)\n",
    "cols_four = [ c for c in telecom.columns if 'Support' in c]\n",
    "print('cols:', cols_four)\n",
    "print('cols_all:', cols_one,cols_two,cols_third,cols_four)"
   ]
  },
  {
   "cell_type": "code",
   "execution_count": 196,
   "metadata": {},
   "outputs": [
    {
     "data": {
      "text/html": [
       "<div>\n",
       "<style scoped>\n",
       "    .dataframe tbody tr th:only-of-type {\n",
       "        vertical-align: middle;\n",
       "    }\n",
       "\n",
       "    .dataframe tbody tr th {\n",
       "        vertical-align: top;\n",
       "    }\n",
       "\n",
       "    .dataframe thead th {\n",
       "        text-align: right;\n",
       "    }\n",
       "</style>\n",
       "<table border=\"1\" class=\"dataframe\">\n",
       "  <thead>\n",
       "    <tr style=\"text-align: right;\">\n",
       "      <th></th>\n",
       "      <th>PhoneService</th>\n",
       "      <th>InternetService</th>\n",
       "      <th>OnlineSecurity</th>\n",
       "      <th>OnlineBackup</th>\n",
       "      <th>StreamingTV</th>\n",
       "      <th>StreamingMovies</th>\n",
       "      <th>TechSupport</th>\n",
       "      <th>MonthlyCharges</th>\n",
       "    </tr>\n",
       "  </thead>\n",
       "  <tbody>\n",
       "    <tr>\n",
       "      <th>0</th>\n",
       "      <td>Yes</td>\n",
       "      <td>No</td>\n",
       "      <td>No internet service</td>\n",
       "      <td>No internet service</td>\n",
       "      <td>No internet service</td>\n",
       "      <td>No internet service</td>\n",
       "      <td>No internet service</td>\n",
       "      <td>24.10</td>\n",
       "    </tr>\n",
       "    <tr>\n",
       "      <th>1</th>\n",
       "      <td>Yes</td>\n",
       "      <td>Fiber optic</td>\n",
       "      <td>No</td>\n",
       "      <td>Yes</td>\n",
       "      <td>Yes</td>\n",
       "      <td>No</td>\n",
       "      <td>No</td>\n",
       "      <td>88.15</td>\n",
       "    </tr>\n",
       "    <tr>\n",
       "      <th>2</th>\n",
       "      <td>Yes</td>\n",
       "      <td>Fiber optic</td>\n",
       "      <td>No</td>\n",
       "      <td>No</td>\n",
       "      <td>No</td>\n",
       "      <td>No</td>\n",
       "      <td>No</td>\n",
       "      <td>74.95</td>\n",
       "    </tr>\n",
       "    <tr>\n",
       "      <th>3</th>\n",
       "      <td>Yes</td>\n",
       "      <td>DSL</td>\n",
       "      <td>No</td>\n",
       "      <td>No</td>\n",
       "      <td>No</td>\n",
       "      <td>Yes</td>\n",
       "      <td>No</td>\n",
       "      <td>55.90</td>\n",
       "    </tr>\n",
       "    <tr>\n",
       "      <th>4</th>\n",
       "      <td>Yes</td>\n",
       "      <td>DSL</td>\n",
       "      <td>Yes</td>\n",
       "      <td>No</td>\n",
       "      <td>No</td>\n",
       "      <td>No</td>\n",
       "      <td>No</td>\n",
       "      <td>53.45</td>\n",
       "    </tr>\n",
       "    <tr>\n",
       "      <th>...</th>\n",
       "      <td>...</td>\n",
       "      <td>...</td>\n",
       "      <td>...</td>\n",
       "      <td>...</td>\n",
       "      <td>...</td>\n",
       "      <td>...</td>\n",
       "      <td>...</td>\n",
       "      <td>...</td>\n",
       "    </tr>\n",
       "    <tr>\n",
       "      <th>5981</th>\n",
       "      <td>Yes</td>\n",
       "      <td>Fiber optic</td>\n",
       "      <td>Yes</td>\n",
       "      <td>No</td>\n",
       "      <td>Yes</td>\n",
       "      <td>Yes</td>\n",
       "      <td>No</td>\n",
       "      <td>95.00</td>\n",
       "    </tr>\n",
       "    <tr>\n",
       "      <th>5982</th>\n",
       "      <td>Yes</td>\n",
       "      <td>DSL</td>\n",
       "      <td>Yes</td>\n",
       "      <td>Yes</td>\n",
       "      <td>Yes</td>\n",
       "      <td>Yes</td>\n",
       "      <td>Yes</td>\n",
       "      <td>91.10</td>\n",
       "    </tr>\n",
       "    <tr>\n",
       "      <th>5983</th>\n",
       "      <td>Yes</td>\n",
       "      <td>No</td>\n",
       "      <td>No internet service</td>\n",
       "      <td>No internet service</td>\n",
       "      <td>No internet service</td>\n",
       "      <td>No internet service</td>\n",
       "      <td>No internet service</td>\n",
       "      <td>21.15</td>\n",
       "    </tr>\n",
       "    <tr>\n",
       "      <th>5984</th>\n",
       "      <td>Yes</td>\n",
       "      <td>Fiber optic</td>\n",
       "      <td>No</td>\n",
       "      <td>No</td>\n",
       "      <td>Yes</td>\n",
       "      <td>Yes</td>\n",
       "      <td>No</td>\n",
       "      <td>99.45</td>\n",
       "    </tr>\n",
       "    <tr>\n",
       "      <th>5985</th>\n",
       "      <td>Yes</td>\n",
       "      <td>No</td>\n",
       "      <td>No internet service</td>\n",
       "      <td>No internet service</td>\n",
       "      <td>No internet service</td>\n",
       "      <td>No internet service</td>\n",
       "      <td>No internet service</td>\n",
       "      <td>19.80</td>\n",
       "    </tr>\n",
       "  </tbody>\n",
       "</table>\n",
       "<p>5986 rows × 8 columns</p>\n",
       "</div>"
      ],
      "text/plain": [
       "     PhoneService InternetService       OnlineSecurity         OnlineBackup  \\\n",
       "0             Yes              No  No internet service  No internet service   \n",
       "1             Yes     Fiber optic                   No                  Yes   \n",
       "2             Yes     Fiber optic                   No                   No   \n",
       "3             Yes             DSL                   No                   No   \n",
       "4             Yes             DSL                  Yes                   No   \n",
       "...           ...             ...                  ...                  ...   \n",
       "5981          Yes     Fiber optic                  Yes                   No   \n",
       "5982          Yes             DSL                  Yes                  Yes   \n",
       "5983          Yes              No  No internet service  No internet service   \n",
       "5984          Yes     Fiber optic                   No                   No   \n",
       "5985          Yes              No  No internet service  No internet service   \n",
       "\n",
       "              StreamingTV      StreamingMovies          TechSupport  \\\n",
       "0     No internet service  No internet service  No internet service   \n",
       "1                     Yes                   No                   No   \n",
       "2                      No                   No                   No   \n",
       "3                      No                  Yes                   No   \n",
       "4                      No                   No                   No   \n",
       "...                   ...                  ...                  ...   \n",
       "5981                  Yes                  Yes                   No   \n",
       "5982                  Yes                  Yes                  Yes   \n",
       "5983  No internet service  No internet service  No internet service   \n",
       "5984                  Yes                  Yes                   No   \n",
       "5985  No internet service  No internet service  No internet service   \n",
       "\n",
       "      MonthlyCharges  \n",
       "0              24.10  \n",
       "1              88.15  \n",
       "2              74.95  \n",
       "3              55.90  \n",
       "4              53.45  \n",
       "...              ...  \n",
       "5981           95.00  \n",
       "5982           91.10  \n",
       "5983           21.15  \n",
       "5984           99.45  \n",
       "5985           19.80  \n",
       "\n",
       "[5986 rows x 8 columns]"
      ]
     },
     "execution_count": 196,
     "metadata": {},
     "output_type": "execute_result"
    }
   ],
   "source": [
    "#서비스 관련 부분 Service로 따로 빼놓기\n",
    "Service = ['PhoneService', 'InternetService', 'OnlineSecurity', 'OnlineBackup', 'StreamingTV', 'StreamingMovies', 'TechSupport', 'MonthlyCharges']\n",
    "telecom[Service]"
   ]
  },
  {
   "cell_type": "markdown",
   "metadata": {},
   "source": [
    "분석 포인트 4가지를 잡았으므로 이와 관련된 EDA를 시작해보기!"
   ]
  },
  {
   "cell_type": "code",
   "execution_count": 197,
   "metadata": {},
   "outputs": [
    {
     "data": {
      "text/plain": [
       "0       1\n",
       "1       1\n",
       "2       1\n",
       "3       1\n",
       "4       1\n",
       "       ..\n",
       "7038    1\n",
       "7039    1\n",
       "7040    1\n",
       "7041    1\n",
       "7042    1\n",
       "Name: Unnamed: 0, Length: 5986, dtype: int64"
      ]
     },
     "execution_count": 197,
     "metadata": {},
     "output_type": "execute_result"
    }
   ],
   "source": [
    "#1. float64, int64 형변환 시키기 \n",
    "#telecom.groupby('Unnamed: 0').size()\n",
    "# Unnamed: 0에 대한 고유의 값이 2개 이상인 것이 없는 걸 확인함\n",
    "telecom['Unnamed: 0'].value_counts().sort_index()"
   ]
  },
  {
   "cell_type": "code",
   "execution_count": 198,
   "metadata": {},
   "outputs": [
    {
     "data": {
      "text/html": [
       "<div>\n",
       "<style scoped>\n",
       "    .dataframe tbody tr th:only-of-type {\n",
       "        vertical-align: middle;\n",
       "    }\n",
       "\n",
       "    .dataframe tbody tr th {\n",
       "        vertical-align: top;\n",
       "    }\n",
       "\n",
       "    .dataframe thead th {\n",
       "        text-align: right;\n",
       "    }\n",
       "</style>\n",
       "<table border=\"1\" class=\"dataframe\">\n",
       "  <thead>\n",
       "    <tr style=\"text-align: right;\">\n",
       "      <th></th>\n",
       "      <th>count</th>\n",
       "      <th>mean</th>\n",
       "      <th>std</th>\n",
       "      <th>min</th>\n",
       "      <th>25%</th>\n",
       "      <th>50%</th>\n",
       "      <th>75%</th>\n",
       "      <th>max</th>\n",
       "    </tr>\n",
       "  </thead>\n",
       "  <tbody>\n",
       "    <tr>\n",
       "      <th>tenure</th>\n",
       "      <td>5986.0</td>\n",
       "      <td>32.46876</td>\n",
       "      <td>24.516391</td>\n",
       "      <td>0.0</td>\n",
       "      <td>9.0</td>\n",
       "      <td>29.0</td>\n",
       "      <td>56.0</td>\n",
       "      <td>72.0</td>\n",
       "    </tr>\n",
       "  </tbody>\n",
       "</table>\n",
       "</div>"
      ],
      "text/plain": [
       "         count      mean        std  min  25%   50%   75%   max\n",
       "tenure  5986.0  32.46876  24.516391  0.0  9.0  29.0  56.0  72.0"
      ]
     },
     "execution_count": 198,
     "metadata": {},
     "output_type": "execute_result"
    }
   ],
   "source": [
    "np.finfo(np.float16) #finfo(resolution=0.001, min=-6.55040e+04, max=6.55040e+04, dtype=float16)\n",
    "\n",
    "telecom[['tenure']].describe().T "
   ]
  },
  {
   "cell_type": "code",
   "execution_count": 199,
   "metadata": {},
   "outputs": [
    {
     "name": "stdout",
     "output_type": "stream",
     "text": [
      "<class 'pandas.core.frame.DataFrame'>\n",
      "RangeIndex: 5986 entries, 0 to 5985\n",
      "Data columns (total 21 columns):\n",
      " #   Column            Non-Null Count  Dtype   \n",
      "---  ------            --------------  -----   \n",
      " 0   Unnamed: 0        5986 non-null   int64   \n",
      " 1   customerID        5986 non-null   object  \n",
      " 2   gender            5986 non-null   category\n",
      " 3   SeniorCitizen     5986 non-null   category\n",
      " 4   Partner           5986 non-null   category\n",
      " 5   tenure            5986 non-null   int8    \n",
      " 6   PhoneService      5986 non-null   category\n",
      " 7   MultipleLines     5986 non-null   category\n",
      " 8   InternetService   5986 non-null   category\n",
      " 9   OnlineSecurity    5986 non-null   category\n",
      " 10  OnlineBackup      5986 non-null   category\n",
      " 11  DeviceProtection  5986 non-null   category\n",
      " 12  TechSupport       5986 non-null   category\n",
      " 13  StreamingTV       5986 non-null   category\n",
      " 14  StreamingMovies   5986 non-null   category\n",
      " 15  Contract          5986 non-null   category\n",
      " 16  PaperlessBilling  5986 non-null   category\n",
      " 17  PaymentMethod     5986 non-null   category\n",
      " 18  MonthlyCharges    5986 non-null   float64 \n",
      " 19  TotalCharges      5986 non-null   object  \n",
      " 20  Churn             5986 non-null   category\n",
      "dtypes: category(16), float64(1), int64(1), int8(1), object(2)\n",
      "memory usage: 288.2+ KB\n"
     ]
    }
   ],
   "source": [
    "telecom['tenure'] = telecom['tenure'].astype(np.int8)\n",
    "telecom.info()"
   ]
  },
  {
   "cell_type": "code",
   "execution_count": 200,
   "metadata": {},
   "outputs": [
    {
     "data": {
      "text/html": [
       "<div>\n",
       "<style scoped>\n",
       "    .dataframe tbody tr th:only-of-type {\n",
       "        vertical-align: middle;\n",
       "    }\n",
       "\n",
       "    .dataframe tbody tr th {\n",
       "        vertical-align: top;\n",
       "    }\n",
       "\n",
       "    .dataframe thead th {\n",
       "        text-align: right;\n",
       "    }\n",
       "</style>\n",
       "<table border=\"1\" class=\"dataframe\">\n",
       "  <thead>\n",
       "    <tr style=\"text-align: right;\">\n",
       "      <th></th>\n",
       "      <th>count</th>\n",
       "      <th>mean</th>\n",
       "      <th>std</th>\n",
       "      <th>min</th>\n",
       "      <th>25%</th>\n",
       "      <th>50%</th>\n",
       "      <th>75%</th>\n",
       "      <th>max</th>\n",
       "    </tr>\n",
       "  </thead>\n",
       "  <tbody>\n",
       "    <tr>\n",
       "      <th>MonthlyCharges</th>\n",
       "      <td>5986.0</td>\n",
       "      <td>64.802213</td>\n",
       "      <td>30.114702</td>\n",
       "      <td>18.25</td>\n",
       "      <td>35.65</td>\n",
       "      <td>70.4</td>\n",
       "      <td>89.9</td>\n",
       "      <td>118.75</td>\n",
       "    </tr>\n",
       "  </tbody>\n",
       "</table>\n",
       "</div>"
      ],
      "text/plain": [
       "                 count       mean        std    min    25%   50%   75%     max\n",
       "MonthlyCharges  5986.0  64.802213  30.114702  18.25  35.65  70.4  89.9  118.75"
      ]
     },
     "execution_count": 200,
     "metadata": {},
     "output_type": "execute_result"
    }
   ],
   "source": [
    "telecom[['MonthlyCharges']].describe().T "
   ]
  },
  {
   "cell_type": "code",
   "execution_count": 201,
   "metadata": {},
   "outputs": [
    {
     "name": "stdout",
     "output_type": "stream",
     "text": [
      "<class 'pandas.core.frame.DataFrame'>\n",
      "RangeIndex: 5986 entries, 0 to 5985\n",
      "Data columns (total 21 columns):\n",
      " #   Column            Non-Null Count  Dtype   \n",
      "---  ------            --------------  -----   \n",
      " 0   Unnamed: 0        5986 non-null   int64   \n",
      " 1   customerID        5986 non-null   object  \n",
      " 2   gender            5986 non-null   category\n",
      " 3   SeniorCitizen     5986 non-null   category\n",
      " 4   Partner           5986 non-null   category\n",
      " 5   tenure            5986 non-null   int8    \n",
      " 6   PhoneService      5986 non-null   category\n",
      " 7   MultipleLines     5986 non-null   category\n",
      " 8   InternetService   5986 non-null   category\n",
      " 9   OnlineSecurity    5986 non-null   category\n",
      " 10  OnlineBackup      5986 non-null   category\n",
      " 11  DeviceProtection  5986 non-null   category\n",
      " 12  TechSupport       5986 non-null   category\n",
      " 13  StreamingTV       5986 non-null   category\n",
      " 14  StreamingMovies   5986 non-null   category\n",
      " 15  Contract          5986 non-null   category\n",
      " 16  PaperlessBilling  5986 non-null   category\n",
      " 17  PaymentMethod     5986 non-null   category\n",
      " 18  MonthlyCharges    5986 non-null   float64 \n",
      " 19  TotalCharges      5976 non-null   float64 \n",
      " 20  Churn             5986 non-null   category\n",
      "dtypes: category(16), float64(2), int64(1), int8(1), object(1)\n",
      "memory usage: 288.2+ KB\n"
     ]
    }
   ],
   "source": [
    "# telecom['TotalCharges'] = telecom['TotalCharges'].astype(float) -> 에러 [could not convert string to float: '']\n",
    "telecom['TotalCharges']= pd.to_numeric(telecom.TotalCharges, errors ='coerce')\n",
    "telecom.info()"
   ]
  },
  {
   "cell_type": "code",
   "execution_count": 202,
   "metadata": {},
   "outputs": [
    {
     "data": {
      "text/html": [
       "<div>\n",
       "<style scoped>\n",
       "    .dataframe tbody tr th:only-of-type {\n",
       "        vertical-align: middle;\n",
       "    }\n",
       "\n",
       "    .dataframe tbody tr th {\n",
       "        vertical-align: top;\n",
       "    }\n",
       "\n",
       "    .dataframe thead th {\n",
       "        text-align: right;\n",
       "    }\n",
       "</style>\n",
       "<table border=\"1\" class=\"dataframe\">\n",
       "  <thead>\n",
       "    <tr style=\"text-align: right;\">\n",
       "      <th></th>\n",
       "      <th>Unnamed: 0</th>\n",
       "      <th>customerID</th>\n",
       "      <th>gender</th>\n",
       "      <th>SeniorCitizen</th>\n",
       "      <th>Partner</th>\n",
       "      <th>tenure</th>\n",
       "      <th>PhoneService</th>\n",
       "      <th>MultipleLines</th>\n",
       "      <th>InternetService</th>\n",
       "      <th>OnlineSecurity</th>\n",
       "      <th>...</th>\n",
       "      <th>DeviceProtection</th>\n",
       "      <th>TechSupport</th>\n",
       "      <th>StreamingTV</th>\n",
       "      <th>StreamingMovies</th>\n",
       "      <th>Contract</th>\n",
       "      <th>PaperlessBilling</th>\n",
       "      <th>PaymentMethod</th>\n",
       "      <th>MonthlyCharges</th>\n",
       "      <th>TotalCharges</th>\n",
       "      <th>Churn</th>\n",
       "    </tr>\n",
       "  </thead>\n",
       "  <tbody>\n",
       "    <tr>\n",
       "      <th>356</th>\n",
       "      <td>6754</td>\n",
       "      <td>2775-SEFEE</td>\n",
       "      <td>Male</td>\n",
       "      <td>0</td>\n",
       "      <td>No</td>\n",
       "      <td>0</td>\n",
       "      <td>Yes</td>\n",
       "      <td>Yes</td>\n",
       "      <td>DSL</td>\n",
       "      <td>Yes</td>\n",
       "      <td>...</td>\n",
       "      <td>No</td>\n",
       "      <td>Yes</td>\n",
       "      <td>No</td>\n",
       "      <td>No</td>\n",
       "      <td>Two year</td>\n",
       "      <td>Yes</td>\n",
       "      <td>Bank transfer (automatic)</td>\n",
       "      <td>61.90</td>\n",
       "      <td>NaN</td>\n",
       "      <td>No</td>\n",
       "    </tr>\n",
       "    <tr>\n",
       "      <th>634</th>\n",
       "      <td>1340</td>\n",
       "      <td>1371-DWPAZ</td>\n",
       "      <td>Female</td>\n",
       "      <td>0</td>\n",
       "      <td>Yes</td>\n",
       "      <td>0</td>\n",
       "      <td>No</td>\n",
       "      <td>No phone service</td>\n",
       "      <td>DSL</td>\n",
       "      <td>Yes</td>\n",
       "      <td>...</td>\n",
       "      <td>Yes</td>\n",
       "      <td>Yes</td>\n",
       "      <td>Yes</td>\n",
       "      <td>No</td>\n",
       "      <td>Two year</td>\n",
       "      <td>No</td>\n",
       "      <td>Credit card (automatic)</td>\n",
       "      <td>56.05</td>\n",
       "      <td>NaN</td>\n",
       "      <td>No</td>\n",
       "    </tr>\n",
       "    <tr>\n",
       "      <th>2771</th>\n",
       "      <td>3826</td>\n",
       "      <td>3213-VVOLG</td>\n",
       "      <td>Male</td>\n",
       "      <td>0</td>\n",
       "      <td>Yes</td>\n",
       "      <td>0</td>\n",
       "      <td>Yes</td>\n",
       "      <td>Yes</td>\n",
       "      <td>No</td>\n",
       "      <td>No internet service</td>\n",
       "      <td>...</td>\n",
       "      <td>No internet service</td>\n",
       "      <td>No internet service</td>\n",
       "      <td>No internet service</td>\n",
       "      <td>No internet service</td>\n",
       "      <td>Two year</td>\n",
       "      <td>No</td>\n",
       "      <td>Mailed check</td>\n",
       "      <td>25.35</td>\n",
       "      <td>NaN</td>\n",
       "      <td>No</td>\n",
       "    </tr>\n",
       "    <tr>\n",
       "      <th>3086</th>\n",
       "      <td>5218</td>\n",
       "      <td>2923-ARZLG</td>\n",
       "      <td>Male</td>\n",
       "      <td>0</td>\n",
       "      <td>Yes</td>\n",
       "      <td>0</td>\n",
       "      <td>Yes</td>\n",
       "      <td>No</td>\n",
       "      <td>No</td>\n",
       "      <td>No internet service</td>\n",
       "      <td>...</td>\n",
       "      <td>No internet service</td>\n",
       "      <td>No internet service</td>\n",
       "      <td>No internet service</td>\n",
       "      <td>No internet service</td>\n",
       "      <td>One year</td>\n",
       "      <td>Yes</td>\n",
       "      <td>Mailed check</td>\n",
       "      <td>19.70</td>\n",
       "      <td>NaN</td>\n",
       "      <td>No</td>\n",
       "    </tr>\n",
       "    <tr>\n",
       "      <th>3255</th>\n",
       "      <td>3331</td>\n",
       "      <td>7644-OMVMY</td>\n",
       "      <td>Male</td>\n",
       "      <td>0</td>\n",
       "      <td>Yes</td>\n",
       "      <td>0</td>\n",
       "      <td>Yes</td>\n",
       "      <td>No</td>\n",
       "      <td>No</td>\n",
       "      <td>No internet service</td>\n",
       "      <td>...</td>\n",
       "      <td>No internet service</td>\n",
       "      <td>No internet service</td>\n",
       "      <td>No internet service</td>\n",
       "      <td>No internet service</td>\n",
       "      <td>Two year</td>\n",
       "      <td>No</td>\n",
       "      <td>Mailed check</td>\n",
       "      <td>19.85</td>\n",
       "      <td>NaN</td>\n",
       "      <td>No</td>\n",
       "    </tr>\n",
       "    <tr>\n",
       "      <th>4326</th>\n",
       "      <td>936</td>\n",
       "      <td>5709-LVOEQ</td>\n",
       "      <td>Female</td>\n",
       "      <td>0</td>\n",
       "      <td>Yes</td>\n",
       "      <td>0</td>\n",
       "      <td>Yes</td>\n",
       "      <td>No</td>\n",
       "      <td>DSL</td>\n",
       "      <td>Yes</td>\n",
       "      <td>...</td>\n",
       "      <td>Yes</td>\n",
       "      <td>No</td>\n",
       "      <td>Yes</td>\n",
       "      <td>Yes</td>\n",
       "      <td>Two year</td>\n",
       "      <td>No</td>\n",
       "      <td>Mailed check</td>\n",
       "      <td>80.85</td>\n",
       "      <td>NaN</td>\n",
       "      <td>No</td>\n",
       "    </tr>\n",
       "    <tr>\n",
       "      <th>5375</th>\n",
       "      <td>753</td>\n",
       "      <td>3115-CZMZD</td>\n",
       "      <td>Male</td>\n",
       "      <td>0</td>\n",
       "      <td>No</td>\n",
       "      <td>0</td>\n",
       "      <td>Yes</td>\n",
       "      <td>No</td>\n",
       "      <td>No</td>\n",
       "      <td>No internet service</td>\n",
       "      <td>...</td>\n",
       "      <td>No internet service</td>\n",
       "      <td>No internet service</td>\n",
       "      <td>No internet service</td>\n",
       "      <td>No internet service</td>\n",
       "      <td>Two year</td>\n",
       "      <td>No</td>\n",
       "      <td>Mailed check</td>\n",
       "      <td>20.25</td>\n",
       "      <td>NaN</td>\n",
       "      <td>No</td>\n",
       "    </tr>\n",
       "    <tr>\n",
       "      <th>5382</th>\n",
       "      <td>4380</td>\n",
       "      <td>2520-SGTTA</td>\n",
       "      <td>Female</td>\n",
       "      <td>0</td>\n",
       "      <td>Yes</td>\n",
       "      <td>0</td>\n",
       "      <td>Yes</td>\n",
       "      <td>No</td>\n",
       "      <td>No</td>\n",
       "      <td>No internet service</td>\n",
       "      <td>...</td>\n",
       "      <td>No internet service</td>\n",
       "      <td>No internet service</td>\n",
       "      <td>No internet service</td>\n",
       "      <td>No internet service</td>\n",
       "      <td>Two year</td>\n",
       "      <td>No</td>\n",
       "      <td>Mailed check</td>\n",
       "      <td>20.00</td>\n",
       "      <td>NaN</td>\n",
       "      <td>No</td>\n",
       "    </tr>\n",
       "    <tr>\n",
       "      <th>5695</th>\n",
       "      <td>488</td>\n",
       "      <td>4472-LVYGI</td>\n",
       "      <td>Female</td>\n",
       "      <td>0</td>\n",
       "      <td>Yes</td>\n",
       "      <td>0</td>\n",
       "      <td>No</td>\n",
       "      <td>No phone service</td>\n",
       "      <td>DSL</td>\n",
       "      <td>Yes</td>\n",
       "      <td>...</td>\n",
       "      <td>Yes</td>\n",
       "      <td>Yes</td>\n",
       "      <td>Yes</td>\n",
       "      <td>No</td>\n",
       "      <td>Two year</td>\n",
       "      <td>Yes</td>\n",
       "      <td>Bank transfer (automatic)</td>\n",
       "      <td>52.55</td>\n",
       "      <td>NaN</td>\n",
       "      <td>No</td>\n",
       "    </tr>\n",
       "    <tr>\n",
       "      <th>5951</th>\n",
       "      <td>1082</td>\n",
       "      <td>4367-NUYAO</td>\n",
       "      <td>Male</td>\n",
       "      <td>0</td>\n",
       "      <td>Yes</td>\n",
       "      <td>0</td>\n",
       "      <td>Yes</td>\n",
       "      <td>Yes</td>\n",
       "      <td>No</td>\n",
       "      <td>No internet service</td>\n",
       "      <td>...</td>\n",
       "      <td>No internet service</td>\n",
       "      <td>No internet service</td>\n",
       "      <td>No internet service</td>\n",
       "      <td>No internet service</td>\n",
       "      <td>Two year</td>\n",
       "      <td>No</td>\n",
       "      <td>Mailed check</td>\n",
       "      <td>25.75</td>\n",
       "      <td>NaN</td>\n",
       "      <td>No</td>\n",
       "    </tr>\n",
       "  </tbody>\n",
       "</table>\n",
       "<p>10 rows × 21 columns</p>\n",
       "</div>"
      ],
      "text/plain": [
       "      Unnamed: 0  customerID  gender SeniorCitizen Partner  tenure  \\\n",
       "356         6754  2775-SEFEE    Male             0      No       0   \n",
       "634         1340  1371-DWPAZ  Female             0     Yes       0   \n",
       "2771        3826  3213-VVOLG    Male             0     Yes       0   \n",
       "3086        5218  2923-ARZLG    Male             0     Yes       0   \n",
       "3255        3331  7644-OMVMY    Male             0     Yes       0   \n",
       "4326         936  5709-LVOEQ  Female             0     Yes       0   \n",
       "5375         753  3115-CZMZD    Male             0      No       0   \n",
       "5382        4380  2520-SGTTA  Female             0     Yes       0   \n",
       "5695         488  4472-LVYGI  Female             0     Yes       0   \n",
       "5951        1082  4367-NUYAO    Male             0     Yes       0   \n",
       "\n",
       "     PhoneService     MultipleLines InternetService       OnlineSecurity  ...  \\\n",
       "356           Yes               Yes             DSL                  Yes  ...   \n",
       "634            No  No phone service             DSL                  Yes  ...   \n",
       "2771          Yes               Yes              No  No internet service  ...   \n",
       "3086          Yes                No              No  No internet service  ...   \n",
       "3255          Yes                No              No  No internet service  ...   \n",
       "4326          Yes                No             DSL                  Yes  ...   \n",
       "5375          Yes                No              No  No internet service  ...   \n",
       "5382          Yes                No              No  No internet service  ...   \n",
       "5695           No  No phone service             DSL                  Yes  ...   \n",
       "5951          Yes               Yes              No  No internet service  ...   \n",
       "\n",
       "         DeviceProtection          TechSupport          StreamingTV  \\\n",
       "356                    No                  Yes                   No   \n",
       "634                   Yes                  Yes                  Yes   \n",
       "2771  No internet service  No internet service  No internet service   \n",
       "3086  No internet service  No internet service  No internet service   \n",
       "3255  No internet service  No internet service  No internet service   \n",
       "4326                  Yes                   No                  Yes   \n",
       "5375  No internet service  No internet service  No internet service   \n",
       "5382  No internet service  No internet service  No internet service   \n",
       "5695                  Yes                  Yes                  Yes   \n",
       "5951  No internet service  No internet service  No internet service   \n",
       "\n",
       "          StreamingMovies  Contract PaperlessBilling  \\\n",
       "356                    No  Two year              Yes   \n",
       "634                    No  Two year               No   \n",
       "2771  No internet service  Two year               No   \n",
       "3086  No internet service  One year              Yes   \n",
       "3255  No internet service  Two year               No   \n",
       "4326                  Yes  Two year               No   \n",
       "5375  No internet service  Two year               No   \n",
       "5382  No internet service  Two year               No   \n",
       "5695                   No  Two year              Yes   \n",
       "5951  No internet service  Two year               No   \n",
       "\n",
       "                  PaymentMethod MonthlyCharges  TotalCharges  Churn  \n",
       "356   Bank transfer (automatic)          61.90           NaN     No  \n",
       "634     Credit card (automatic)          56.05           NaN     No  \n",
       "2771               Mailed check          25.35           NaN     No  \n",
       "3086               Mailed check          19.70           NaN     No  \n",
       "3255               Mailed check          19.85           NaN     No  \n",
       "4326               Mailed check          80.85           NaN     No  \n",
       "5375               Mailed check          20.25           NaN     No  \n",
       "5382               Mailed check          20.00           NaN     No  \n",
       "5695  Bank transfer (automatic)          52.55           NaN     No  \n",
       "5951               Mailed check          25.75           NaN     No  \n",
       "\n",
       "[10 rows x 21 columns]"
      ]
     },
     "execution_count": 202,
     "metadata": {},
     "output_type": "execute_result"
    }
   ],
   "source": [
    "#telecom.isna().sum() ->결측값 생김\n",
    "telecom[telecom['TotalCharges'].isnull()]"
   ]
  },
  {
   "cell_type": "code",
   "execution_count": 203,
   "metadata": {},
   "outputs": [
    {
     "data": {
      "text/html": [
       "<div>\n",
       "<style scoped>\n",
       "    .dataframe tbody tr th:only-of-type {\n",
       "        vertical-align: middle;\n",
       "    }\n",
       "\n",
       "    .dataframe tbody tr th {\n",
       "        vertical-align: top;\n",
       "    }\n",
       "\n",
       "    .dataframe thead th {\n",
       "        text-align: right;\n",
       "    }\n",
       "</style>\n",
       "<table border=\"1\" class=\"dataframe\">\n",
       "  <thead>\n",
       "    <tr style=\"text-align: right;\">\n",
       "      <th></th>\n",
       "      <th>Unnamed: 0</th>\n",
       "      <th>customerID</th>\n",
       "      <th>gender</th>\n",
       "      <th>SeniorCitizen</th>\n",
       "      <th>Partner</th>\n",
       "      <th>Dependents</th>\n",
       "      <th>tenure</th>\n",
       "      <th>PhoneService</th>\n",
       "      <th>MultipleLines</th>\n",
       "      <th>InternetService</th>\n",
       "      <th>...</th>\n",
       "      <th>DeviceProtection</th>\n",
       "      <th>TechSupport</th>\n",
       "      <th>StreamingTV</th>\n",
       "      <th>StreamingMovies</th>\n",
       "      <th>Contract</th>\n",
       "      <th>PaperlessBilling</th>\n",
       "      <th>PaymentMethod</th>\n",
       "      <th>MonthlyCharges</th>\n",
       "      <th>TotalCharges</th>\n",
       "      <th>Churn</th>\n",
       "    </tr>\n",
       "  </thead>\n",
       "  <tbody>\n",
       "    <tr>\n",
       "      <th>356</th>\n",
       "      <td>6754</td>\n",
       "      <td>2775-SEFEE</td>\n",
       "      <td>Male</td>\n",
       "      <td>0</td>\n",
       "      <td>No</td>\n",
       "      <td>Yes</td>\n",
       "      <td>0</td>\n",
       "      <td>Yes</td>\n",
       "      <td>Yes</td>\n",
       "      <td>DSL</td>\n",
       "      <td>...</td>\n",
       "      <td>No</td>\n",
       "      <td>Yes</td>\n",
       "      <td>No</td>\n",
       "      <td>No</td>\n",
       "      <td>Two year</td>\n",
       "      <td>Yes</td>\n",
       "      <td>Bank transfer (automatic)</td>\n",
       "      <td>61.90</td>\n",
       "      <td></td>\n",
       "      <td>No</td>\n",
       "    </tr>\n",
       "    <tr>\n",
       "      <th>634</th>\n",
       "      <td>1340</td>\n",
       "      <td>1371-DWPAZ</td>\n",
       "      <td>Female</td>\n",
       "      <td>0</td>\n",
       "      <td>Yes</td>\n",
       "      <td>Yes</td>\n",
       "      <td>0</td>\n",
       "      <td>No</td>\n",
       "      <td>No phone service</td>\n",
       "      <td>DSL</td>\n",
       "      <td>...</td>\n",
       "      <td>Yes</td>\n",
       "      <td>Yes</td>\n",
       "      <td>Yes</td>\n",
       "      <td>No</td>\n",
       "      <td>Two year</td>\n",
       "      <td>No</td>\n",
       "      <td>Credit card (automatic)</td>\n",
       "      <td>56.05</td>\n",
       "      <td></td>\n",
       "      <td>No</td>\n",
       "    </tr>\n",
       "    <tr>\n",
       "      <th>2771</th>\n",
       "      <td>3826</td>\n",
       "      <td>3213-VVOLG</td>\n",
       "      <td>Male</td>\n",
       "      <td>0</td>\n",
       "      <td>Yes</td>\n",
       "      <td>Yes</td>\n",
       "      <td>0</td>\n",
       "      <td>Yes</td>\n",
       "      <td>Yes</td>\n",
       "      <td>No</td>\n",
       "      <td>...</td>\n",
       "      <td>No internet service</td>\n",
       "      <td>No internet service</td>\n",
       "      <td>No internet service</td>\n",
       "      <td>No internet service</td>\n",
       "      <td>Two year</td>\n",
       "      <td>No</td>\n",
       "      <td>Mailed check</td>\n",
       "      <td>25.35</td>\n",
       "      <td></td>\n",
       "      <td>No</td>\n",
       "    </tr>\n",
       "    <tr>\n",
       "      <th>3086</th>\n",
       "      <td>5218</td>\n",
       "      <td>2923-ARZLG</td>\n",
       "      <td>Male</td>\n",
       "      <td>0</td>\n",
       "      <td>Yes</td>\n",
       "      <td>Yes</td>\n",
       "      <td>0</td>\n",
       "      <td>Yes</td>\n",
       "      <td>No</td>\n",
       "      <td>No</td>\n",
       "      <td>...</td>\n",
       "      <td>No internet service</td>\n",
       "      <td>No internet service</td>\n",
       "      <td>No internet service</td>\n",
       "      <td>No internet service</td>\n",
       "      <td>One year</td>\n",
       "      <td>Yes</td>\n",
       "      <td>Mailed check</td>\n",
       "      <td>19.70</td>\n",
       "      <td></td>\n",
       "      <td>No</td>\n",
       "    </tr>\n",
       "    <tr>\n",
       "      <th>3255</th>\n",
       "      <td>3331</td>\n",
       "      <td>7644-OMVMY</td>\n",
       "      <td>Male</td>\n",
       "      <td>0</td>\n",
       "      <td>Yes</td>\n",
       "      <td>Yes</td>\n",
       "      <td>0</td>\n",
       "      <td>Yes</td>\n",
       "      <td>No</td>\n",
       "      <td>No</td>\n",
       "      <td>...</td>\n",
       "      <td>No internet service</td>\n",
       "      <td>No internet service</td>\n",
       "      <td>No internet service</td>\n",
       "      <td>No internet service</td>\n",
       "      <td>Two year</td>\n",
       "      <td>No</td>\n",
       "      <td>Mailed check</td>\n",
       "      <td>19.85</td>\n",
       "      <td></td>\n",
       "      <td>No</td>\n",
       "    </tr>\n",
       "    <tr>\n",
       "      <th>4326</th>\n",
       "      <td>936</td>\n",
       "      <td>5709-LVOEQ</td>\n",
       "      <td>Female</td>\n",
       "      <td>0</td>\n",
       "      <td>Yes</td>\n",
       "      <td>Yes</td>\n",
       "      <td>0</td>\n",
       "      <td>Yes</td>\n",
       "      <td>No</td>\n",
       "      <td>DSL</td>\n",
       "      <td>...</td>\n",
       "      <td>Yes</td>\n",
       "      <td>No</td>\n",
       "      <td>Yes</td>\n",
       "      <td>Yes</td>\n",
       "      <td>Two year</td>\n",
       "      <td>No</td>\n",
       "      <td>Mailed check</td>\n",
       "      <td>80.85</td>\n",
       "      <td></td>\n",
       "      <td>No</td>\n",
       "    </tr>\n",
       "    <tr>\n",
       "      <th>5375</th>\n",
       "      <td>753</td>\n",
       "      <td>3115-CZMZD</td>\n",
       "      <td>Male</td>\n",
       "      <td>0</td>\n",
       "      <td>No</td>\n",
       "      <td>Yes</td>\n",
       "      <td>0</td>\n",
       "      <td>Yes</td>\n",
       "      <td>No</td>\n",
       "      <td>No</td>\n",
       "      <td>...</td>\n",
       "      <td>No internet service</td>\n",
       "      <td>No internet service</td>\n",
       "      <td>No internet service</td>\n",
       "      <td>No internet service</td>\n",
       "      <td>Two year</td>\n",
       "      <td>No</td>\n",
       "      <td>Mailed check</td>\n",
       "      <td>20.25</td>\n",
       "      <td></td>\n",
       "      <td>No</td>\n",
       "    </tr>\n",
       "    <tr>\n",
       "      <th>5382</th>\n",
       "      <td>4380</td>\n",
       "      <td>2520-SGTTA</td>\n",
       "      <td>Female</td>\n",
       "      <td>0</td>\n",
       "      <td>Yes</td>\n",
       "      <td>Yes</td>\n",
       "      <td>0</td>\n",
       "      <td>Yes</td>\n",
       "      <td>No</td>\n",
       "      <td>No</td>\n",
       "      <td>...</td>\n",
       "      <td>No internet service</td>\n",
       "      <td>No internet service</td>\n",
       "      <td>No internet service</td>\n",
       "      <td>No internet service</td>\n",
       "      <td>Two year</td>\n",
       "      <td>No</td>\n",
       "      <td>Mailed check</td>\n",
       "      <td>20.00</td>\n",
       "      <td></td>\n",
       "      <td>No</td>\n",
       "    </tr>\n",
       "    <tr>\n",
       "      <th>5695</th>\n",
       "      <td>488</td>\n",
       "      <td>4472-LVYGI</td>\n",
       "      <td>Female</td>\n",
       "      <td>0</td>\n",
       "      <td>Yes</td>\n",
       "      <td>Yes</td>\n",
       "      <td>0</td>\n",
       "      <td>No</td>\n",
       "      <td>No phone service</td>\n",
       "      <td>DSL</td>\n",
       "      <td>...</td>\n",
       "      <td>Yes</td>\n",
       "      <td>Yes</td>\n",
       "      <td>Yes</td>\n",
       "      <td>No</td>\n",
       "      <td>Two year</td>\n",
       "      <td>Yes</td>\n",
       "      <td>Bank transfer (automatic)</td>\n",
       "      <td>52.55</td>\n",
       "      <td></td>\n",
       "      <td>No</td>\n",
       "    </tr>\n",
       "    <tr>\n",
       "      <th>5951</th>\n",
       "      <td>1082</td>\n",
       "      <td>4367-NUYAO</td>\n",
       "      <td>Male</td>\n",
       "      <td>0</td>\n",
       "      <td>Yes</td>\n",
       "      <td>Yes</td>\n",
       "      <td>0</td>\n",
       "      <td>Yes</td>\n",
       "      <td>Yes</td>\n",
       "      <td>No</td>\n",
       "      <td>...</td>\n",
       "      <td>No internet service</td>\n",
       "      <td>No internet service</td>\n",
       "      <td>No internet service</td>\n",
       "      <td>No internet service</td>\n",
       "      <td>Two year</td>\n",
       "      <td>No</td>\n",
       "      <td>Mailed check</td>\n",
       "      <td>25.75</td>\n",
       "      <td></td>\n",
       "      <td>No</td>\n",
       "    </tr>\n",
       "  </tbody>\n",
       "</table>\n",
       "<p>10 rows × 22 columns</p>\n",
       "</div>"
      ],
      "text/plain": [
       "      Unnamed: 0  customerID  gender  SeniorCitizen Partner Dependents  \\\n",
       "356         6754  2775-SEFEE    Male              0      No        Yes   \n",
       "634         1340  1371-DWPAZ  Female              0     Yes        Yes   \n",
       "2771        3826  3213-VVOLG    Male              0     Yes        Yes   \n",
       "3086        5218  2923-ARZLG    Male              0     Yes        Yes   \n",
       "3255        3331  7644-OMVMY    Male              0     Yes        Yes   \n",
       "4326         936  5709-LVOEQ  Female              0     Yes        Yes   \n",
       "5375         753  3115-CZMZD    Male              0      No        Yes   \n",
       "5382        4380  2520-SGTTA  Female              0     Yes        Yes   \n",
       "5695         488  4472-LVYGI  Female              0     Yes        Yes   \n",
       "5951        1082  4367-NUYAO    Male              0     Yes        Yes   \n",
       "\n",
       "      tenure PhoneService     MultipleLines InternetService  ...  \\\n",
       "356        0          Yes               Yes             DSL  ...   \n",
       "634        0           No  No phone service             DSL  ...   \n",
       "2771       0          Yes               Yes              No  ...   \n",
       "3086       0          Yes                No              No  ...   \n",
       "3255       0          Yes                No              No  ...   \n",
       "4326       0          Yes                No             DSL  ...   \n",
       "5375       0          Yes                No              No  ...   \n",
       "5382       0          Yes                No              No  ...   \n",
       "5695       0           No  No phone service             DSL  ...   \n",
       "5951       0          Yes               Yes              No  ...   \n",
       "\n",
       "         DeviceProtection          TechSupport          StreamingTV  \\\n",
       "356                    No                  Yes                   No   \n",
       "634                   Yes                  Yes                  Yes   \n",
       "2771  No internet service  No internet service  No internet service   \n",
       "3086  No internet service  No internet service  No internet service   \n",
       "3255  No internet service  No internet service  No internet service   \n",
       "4326                  Yes                   No                  Yes   \n",
       "5375  No internet service  No internet service  No internet service   \n",
       "5382  No internet service  No internet service  No internet service   \n",
       "5695                  Yes                  Yes                  Yes   \n",
       "5951  No internet service  No internet service  No internet service   \n",
       "\n",
       "          StreamingMovies  Contract PaperlessBilling  \\\n",
       "356                    No  Two year              Yes   \n",
       "634                    No  Two year               No   \n",
       "2771  No internet service  Two year               No   \n",
       "3086  No internet service  One year              Yes   \n",
       "3255  No internet service  Two year               No   \n",
       "4326                  Yes  Two year               No   \n",
       "5375  No internet service  Two year               No   \n",
       "5382  No internet service  Two year               No   \n",
       "5695                   No  Two year              Yes   \n",
       "5951  No internet service  Two year               No   \n",
       "\n",
       "                  PaymentMethod MonthlyCharges TotalCharges  Churn  \n",
       "356   Bank transfer (automatic)          61.90                  No  \n",
       "634     Credit card (automatic)          56.05                  No  \n",
       "2771               Mailed check          25.35                  No  \n",
       "3086               Mailed check          19.70                  No  \n",
       "3255               Mailed check          19.85                  No  \n",
       "4326               Mailed check          80.85                  No  \n",
       "5375               Mailed check          20.25                  No  \n",
       "5382               Mailed check          20.00                  No  \n",
       "5695  Bank transfer (automatic)          52.55                  No  \n",
       "5951               Mailed check          25.75                  No  \n",
       "\n",
       "[10 rows x 22 columns]"
      ]
     },
     "execution_count": 203,
     "metadata": {},
     "output_type": "execute_result"
    }
   ],
   "source": [
    "telecom_row = pd.read_csv('P3_subject1/telecom_users.csv')\n",
    "telecom_row.iloc[[356,634,2771,3086,3255,4326,5375,5382,5695,5951]]"
   ]
  },
  {
   "cell_type": "code",
   "execution_count": 204,
   "metadata": {},
   "outputs": [
    {
     "data": {
      "text/plain": [
       "No     4399\n",
       "Yes    1587\n",
       "Name: Churn, dtype: int64"
      ]
     },
     "execution_count": 204,
     "metadata": {},
     "output_type": "execute_result"
    }
   ],
   "source": [
    "telecom['Churn'].value_counts()"
   ]
  },
  {
   "cell_type": "code",
   "execution_count": 205,
   "metadata": {},
   "outputs": [
    {
     "data": {
      "text/plain": [
       "count    5976.000000\n",
       "mean     2298.060617\n",
       "std      2274.127165\n",
       "min        18.800000\n",
       "25%       404.312500\n",
       "50%      1412.150000\n",
       "75%      3846.962500\n",
       "max      8684.800000\n",
       "Name: TotalCharges, dtype: float64"
      ]
     },
     "execution_count": 205,
     "metadata": {},
     "output_type": "execute_result"
    }
   ],
   "source": [
    "#min : 18.800000\n",
    "telecom['TotalCharges'].describe()"
   ]
  },
  {
   "cell_type": "code",
   "execution_count": 206,
   "metadata": {},
   "outputs": [
    {
     "data": {
      "text/plain": [
       "count    5976.000000\n",
       "mean     2298.060617\n",
       "std      2274.127165\n",
       "min        18.800000\n",
       "25%       404.312500\n",
       "50%      1412.150000\n",
       "75%      3846.962500\n",
       "max      8684.800000\n",
       "Name: TotalCharges, dtype: float64"
      ]
     },
     "execution_count": 206,
     "metadata": {},
     "output_type": "execute_result"
    }
   ],
   "source": [
    "#최소 값이 18.8이므로 결측값은 0 or 날리기(10개) -> 날리는걸 선택!\n",
    "telecom.drop(columns= 'TotalCharges')\n",
    "telecom['TotalCharges'].describe()"
   ]
  },
  {
   "cell_type": "code",
   "execution_count": 207,
   "metadata": {},
   "outputs": [],
   "source": [
    "telecom['MonthlyCharges'] = telecom['MonthlyCharges'].astype(np.float16)\n",
    "telecom['TotalCharges'] = telecom['TotalCharges'].astype(np.float16)"
   ]
  },
  {
   "cell_type": "code",
   "execution_count": 208,
   "metadata": {},
   "outputs": [
    {
     "name": "stdout",
     "output_type": "stream",
     "text": [
      "<class 'pandas.core.frame.DataFrame'>\n",
      "RangeIndex: 5986 entries, 0 to 5985\n",
      "Data columns (total 21 columns):\n",
      " #   Column            Non-Null Count  Dtype   \n",
      "---  ------            --------------  -----   \n",
      " 0   Unnamed: 0        5986 non-null   int64   \n",
      " 1   customerID        5986 non-null   object  \n",
      " 2   gender            5986 non-null   category\n",
      " 3   SeniorCitizen     5986 non-null   category\n",
      " 4   Partner           5986 non-null   category\n",
      " 5   tenure            5986 non-null   int8    \n",
      " 6   PhoneService      5986 non-null   category\n",
      " 7   MultipleLines     5986 non-null   category\n",
      " 8   InternetService   5986 non-null   category\n",
      " 9   OnlineSecurity    5986 non-null   category\n",
      " 10  OnlineBackup      5986 non-null   category\n",
      " 11  DeviceProtection  5986 non-null   category\n",
      " 12  TechSupport       5986 non-null   category\n",
      " 13  StreamingTV       5986 non-null   category\n",
      " 14  StreamingMovies   5986 non-null   category\n",
      " 15  Contract          5986 non-null   category\n",
      " 16  PaperlessBilling  5986 non-null   category\n",
      " 17  PaymentMethod     5986 non-null   category\n",
      " 18  MonthlyCharges    5986 non-null   float16 \n",
      " 19  TotalCharges      5976 non-null   float16 \n",
      " 20  Churn             5986 non-null   category\n",
      "dtypes: category(16), float16(2), int64(1), int8(1), object(1)\n",
      "memory usage: 218.1+ KB\n"
     ]
    }
   ],
   "source": [
    "telecom.info()"
   ]
  },
  {
   "cell_type": "markdown",
   "metadata": {},
   "source": [
    "#메모리 용량이 982.2+ KB -> 329.1+KB-> (현재) 218.1+ KB"
   ]
  },
  {
   "cell_type": "code",
   "execution_count": 209,
   "metadata": {},
   "outputs": [
    {
     "data": {
      "text/plain": [
       "0.22"
      ]
     },
     "execution_count": 209,
     "metadata": {},
     "output_type": "execute_result"
    }
   ],
   "source": [
    "round(218.1/982.2, 2)"
   ]
  },
  {
   "cell_type": "markdown",
   "metadata": {},
   "source": [
    "처음과 비교하면 22%의 메모리만 사용하여 매우 큰 메모리 세이브를 했다."
   ]
  },
  {
   "cell_type": "markdown",
   "metadata": {},
   "source": [
    "1. 한가지 이상 서비스를 받는 사람들이 매달 요금 내는 정도는 과연 어느 편에 속할 것인가?"
   ]
  },
  {
   "cell_type": "code",
   "execution_count": 309,
   "metadata": {},
   "outputs": [
    {
     "name": "stdout",
     "output_type": "stream",
     "text": [
      "<class 'pandas.core.frame.DataFrame'>\n",
      "RangeIndex: 5986 entries, 0 to 5985\n",
      "Data columns (total 8 columns):\n",
      " #   Column           Non-Null Count  Dtype   \n",
      "---  ------           --------------  -----   \n",
      " 0   PhoneService     5986 non-null   category\n",
      " 1   InternetService  5986 non-null   category\n",
      " 2   OnlineSecurity   5986 non-null   category\n",
      " 3   OnlineBackup     5986 non-null   category\n",
      " 4   StreamingTV      5986 non-null   category\n",
      " 5   StreamingMovies  5986 non-null   category\n",
      " 6   TechSupport      5986 non-null   category\n",
      " 7   MonthlyCharges   5986 non-null   float16 \n",
      "dtypes: category(7), float16(1)\n",
      "memory usage: 53.4 KB\n"
     ]
    },
    {
     "data": {
      "text/html": [
       "<div>\n",
       "<style scoped>\n",
       "    .dataframe tbody tr th:only-of-type {\n",
       "        vertical-align: middle;\n",
       "    }\n",
       "\n",
       "    .dataframe tbody tr th {\n",
       "        vertical-align: top;\n",
       "    }\n",
       "\n",
       "    .dataframe thead th {\n",
       "        text-align: right;\n",
       "    }\n",
       "</style>\n",
       "<table border=\"1\" class=\"dataframe\">\n",
       "  <thead>\n",
       "    <tr style=\"text-align: right;\">\n",
       "      <th></th>\n",
       "      <th>PhoneService</th>\n",
       "      <th>InternetService</th>\n",
       "      <th>OnlineSecurity</th>\n",
       "      <th>OnlineBackup</th>\n",
       "      <th>StreamingTV</th>\n",
       "      <th>StreamingMovies</th>\n",
       "      <th>TechSupport</th>\n",
       "      <th>MonthlyCharges</th>\n",
       "    </tr>\n",
       "  </thead>\n",
       "  <tbody>\n",
       "    <tr>\n",
       "      <th>0</th>\n",
       "      <td>Yes</td>\n",
       "      <td>No</td>\n",
       "      <td>No internet service</td>\n",
       "      <td>No internet service</td>\n",
       "      <td>No internet service</td>\n",
       "      <td>No internet service</td>\n",
       "      <td>No internet service</td>\n",
       "      <td>24.093750</td>\n",
       "    </tr>\n",
       "    <tr>\n",
       "      <th>1</th>\n",
       "      <td>Yes</td>\n",
       "      <td>Fiber optic</td>\n",
       "      <td>No</td>\n",
       "      <td>Yes</td>\n",
       "      <td>Yes</td>\n",
       "      <td>No</td>\n",
       "      <td>No</td>\n",
       "      <td>88.125000</td>\n",
       "    </tr>\n",
       "    <tr>\n",
       "      <th>2</th>\n",
       "      <td>Yes</td>\n",
       "      <td>Fiber optic</td>\n",
       "      <td>No</td>\n",
       "      <td>No</td>\n",
       "      <td>No</td>\n",
       "      <td>No</td>\n",
       "      <td>No</td>\n",
       "      <td>74.937500</td>\n",
       "    </tr>\n",
       "    <tr>\n",
       "      <th>3</th>\n",
       "      <td>Yes</td>\n",
       "      <td>DSL</td>\n",
       "      <td>No</td>\n",
       "      <td>No</td>\n",
       "      <td>No</td>\n",
       "      <td>Yes</td>\n",
       "      <td>No</td>\n",
       "      <td>55.906250</td>\n",
       "    </tr>\n",
       "    <tr>\n",
       "      <th>4</th>\n",
       "      <td>Yes</td>\n",
       "      <td>DSL</td>\n",
       "      <td>Yes</td>\n",
       "      <td>No</td>\n",
       "      <td>No</td>\n",
       "      <td>No</td>\n",
       "      <td>No</td>\n",
       "      <td>53.437500</td>\n",
       "    </tr>\n",
       "    <tr>\n",
       "      <th>...</th>\n",
       "      <td>...</td>\n",
       "      <td>...</td>\n",
       "      <td>...</td>\n",
       "      <td>...</td>\n",
       "      <td>...</td>\n",
       "      <td>...</td>\n",
       "      <td>...</td>\n",
       "      <td>...</td>\n",
       "    </tr>\n",
       "    <tr>\n",
       "      <th>5981</th>\n",
       "      <td>Yes</td>\n",
       "      <td>Fiber optic</td>\n",
       "      <td>Yes</td>\n",
       "      <td>No</td>\n",
       "      <td>Yes</td>\n",
       "      <td>Yes</td>\n",
       "      <td>No</td>\n",
       "      <td>95.000000</td>\n",
       "    </tr>\n",
       "    <tr>\n",
       "      <th>5982</th>\n",
       "      <td>Yes</td>\n",
       "      <td>DSL</td>\n",
       "      <td>Yes</td>\n",
       "      <td>Yes</td>\n",
       "      <td>Yes</td>\n",
       "      <td>Yes</td>\n",
       "      <td>Yes</td>\n",
       "      <td>91.125000</td>\n",
       "    </tr>\n",
       "    <tr>\n",
       "      <th>5983</th>\n",
       "      <td>Yes</td>\n",
       "      <td>No</td>\n",
       "      <td>No internet service</td>\n",
       "      <td>No internet service</td>\n",
       "      <td>No internet service</td>\n",
       "      <td>No internet service</td>\n",
       "      <td>No internet service</td>\n",
       "      <td>21.156250</td>\n",
       "    </tr>\n",
       "    <tr>\n",
       "      <th>5984</th>\n",
       "      <td>Yes</td>\n",
       "      <td>Fiber optic</td>\n",
       "      <td>No</td>\n",
       "      <td>No</td>\n",
       "      <td>Yes</td>\n",
       "      <td>Yes</td>\n",
       "      <td>No</td>\n",
       "      <td>99.437500</td>\n",
       "    </tr>\n",
       "    <tr>\n",
       "      <th>5985</th>\n",
       "      <td>Yes</td>\n",
       "      <td>No</td>\n",
       "      <td>No internet service</td>\n",
       "      <td>No internet service</td>\n",
       "      <td>No internet service</td>\n",
       "      <td>No internet service</td>\n",
       "      <td>No internet service</td>\n",
       "      <td>19.796875</td>\n",
       "    </tr>\n",
       "  </tbody>\n",
       "</table>\n",
       "<p>5396 rows × 8 columns</p>\n",
       "</div>"
      ],
      "text/plain": [
       "     PhoneService InternetService       OnlineSecurity         OnlineBackup  \\\n",
       "0             Yes              No  No internet service  No internet service   \n",
       "1             Yes     Fiber optic                   No                  Yes   \n",
       "2             Yes     Fiber optic                   No                   No   \n",
       "3             Yes             DSL                   No                   No   \n",
       "4             Yes             DSL                  Yes                   No   \n",
       "...           ...             ...                  ...                  ...   \n",
       "5981          Yes     Fiber optic                  Yes                   No   \n",
       "5982          Yes             DSL                  Yes                  Yes   \n",
       "5983          Yes              No  No internet service  No internet service   \n",
       "5984          Yes     Fiber optic                   No                   No   \n",
       "5985          Yes              No  No internet service  No internet service   \n",
       "\n",
       "              StreamingTV      StreamingMovies          TechSupport  \\\n",
       "0     No internet service  No internet service  No internet service   \n",
       "1                     Yes                   No                   No   \n",
       "2                      No                   No                   No   \n",
       "3                      No                  Yes                   No   \n",
       "4                      No                   No                   No   \n",
       "...                   ...                  ...                  ...   \n",
       "5981                  Yes                  Yes                   No   \n",
       "5982                  Yes                  Yes                  Yes   \n",
       "5983  No internet service  No internet service  No internet service   \n",
       "5984                  Yes                  Yes                   No   \n",
       "5985  No internet service  No internet service  No internet service   \n",
       "\n",
       "      MonthlyCharges  \n",
       "0          24.093750  \n",
       "1          88.125000  \n",
       "2          74.937500  \n",
       "3          55.906250  \n",
       "4          53.437500  \n",
       "...              ...  \n",
       "5981       95.000000  \n",
       "5982       91.125000  \n",
       "5983       21.156250  \n",
       "5984       99.437500  \n",
       "5985       19.796875  \n",
       "\n",
       "[5396 rows x 8 columns]"
      ]
     },
     "execution_count": 309,
     "metadata": {},
     "output_type": "execute_result"
    }
   ],
   "source": [
    "# 서비스의 항목들만 있는 열을 가지고 오기\n",
    "Services= telecom[Service]\n",
    "Services.head()\n",
    "Services.info() # 5986 \n",
    "\n",
    "# 한 가지 이상 서비스를 받기 위해서는 PhoneService가 No인 사람들 : 약 10%\n",
    "Services.PhoneService.value_counts() #590\n",
    "\n",
    "#90%의 사람들을 뽑아내기 #5396명\n",
    "is_Services = Services['PhoneService'] == 'Yes'\n",
    "is_Services = Services[is_Services]\n",
    "is_Services #5396"
   ]
  },
  {
   "cell_type": "code",
   "execution_count": 211,
   "metadata": {},
   "outputs": [
    {
     "data": {
      "text/plain": [
       "Fiber optic    0.486842\n",
       "DSL            0.273907\n",
       "No             0.239251\n",
       "Name: InternetService, dtype: float64"
      ]
     },
     "execution_count": 211,
     "metadata": {},
     "output_type": "execute_result"
    }
   ],
   "source": [
    "#OnlineSecurity, OnlineBackup, StreamingTV, StreamingMovies, TechSupport의 경우 InternetService에 연관되어 있다.\n",
    "is_Services.InternetService.value_counts(\"No\") "
   ]
  },
  {
   "cell_type": "markdown",
   "metadata": {},
   "source": [
    "- 약 77퍼의 사람들이 인터넷서비스를 제공받고 있다. "
   ]
  },
  {
   "cell_type": "code",
   "execution_count": 212,
   "metadata": {},
   "outputs": [
    {
     "name": "stderr",
     "output_type": "stream",
     "text": [
      "C:\\Users\\dajin\\Anaconda3\\lib\\site-packages\\seaborn\\_decorators.py:36: FutureWarning: Pass the following variables as keyword args: x, y. From version 0.12, the only valid positional argument will be `data`, and passing other arguments without an explicit keyword will result in an error or misinterpretation.\n",
      "  warnings.warn(\n"
     ]
    },
    {
     "data": {
      "text/plain": [
       "<AxesSubplot:ylabel='InternetService'>"
      ]
     },
     "execution_count": 212,
     "metadata": {},
     "output_type": "execute_result"
    },
    {
     "data": {
      "image/png": "[encoded data removed]",
      "text/plain": [
       "<Figure size 432x288 with 1 Axes>"
      ]
     },
     "metadata": {
      "needs_background": "light"
     },
     "output_type": "display_data"
    }
   ],
   "source": [
    "#seaborn\n",
    "import seaborn as sns\n",
    "sns.barplot(is_Services.InternetService.value_counts().index, is_Services.InternetService.value_counts())"
   ]
  },
  {
   "cell_type": "code",
   "execution_count": 213,
   "metadata": {},
   "outputs": [],
   "source": [
    "Charge = telecom[['MonthlyCharges','TotalCharges']]"
   ]
  },
  {
   "cell_type": "code",
   "execution_count": 215,
   "metadata": {},
   "outputs": [
    {
     "data": {
      "text/html": [
       "<div>\n",
       "<style scoped>\n",
       "    .dataframe tbody tr th:only-of-type {\n",
       "        vertical-align: middle;\n",
       "    }\n",
       "\n",
       "    .dataframe tbody tr th {\n",
       "        vertical-align: top;\n",
       "    }\n",
       "\n",
       "    .dataframe thead th {\n",
       "        text-align: right;\n",
       "    }\n",
       "</style>\n",
       "<table border=\"1\" class=\"dataframe\">\n",
       "  <thead>\n",
       "    <tr style=\"text-align: right;\">\n",
       "      <th></th>\n",
       "      <th>mean</th>\n",
       "      <th>std</th>\n",
       "    </tr>\n",
       "    <tr>\n",
       "      <th>InternetService</th>\n",
       "      <th></th>\n",
       "      <th></th>\n",
       "    </tr>\n",
       "  </thead>\n",
       "  <tbody>\n",
       "    <tr>\n",
       "      <th>DSL</th>\n",
       "      <td>64.56250</td>\n",
       "      <td>13.418059</td>\n",
       "    </tr>\n",
       "    <tr>\n",
       "      <th>Fiber optic</th>\n",
       "      <td>91.56250</td>\n",
       "      <td>12.715182</td>\n",
       "    </tr>\n",
       "    <tr>\n",
       "      <th>No</th>\n",
       "      <td>21.09375</td>\n",
       "      <td>2.186129</td>\n",
       "    </tr>\n",
       "  </tbody>\n",
       "</table>\n",
       "</div>"
      ],
      "text/plain": [
       "                     mean        std\n",
       "InternetService                     \n",
       "DSL              64.56250  13.418059\n",
       "Fiber optic      91.56250  12.715182\n",
       "No               21.09375   2.186129"
      ]
     },
     "execution_count": 215,
     "metadata": {},
     "output_type": "execute_result"
    }
   ],
   "source": [
    "is_Services.groupby('InternetService').MonthlyCharges.agg(['mean','std'])"
   ]
  },
  {
   "cell_type": "code",
   "execution_count": 216,
   "metadata": {},
   "outputs": [
    {
     "name": "stderr",
     "output_type": "stream",
     "text": [
      "C:\\Users\\dajin\\Anaconda3\\lib\\site-packages\\seaborn\\distributions.py:2551: FutureWarning: `distplot` is a deprecated function and will be removed in a future version. Please adapt your code to use either `displot` (a figure-level function with similar flexibility) or `histplot` (an axes-level function for histograms).\n",
      "  warnings.warn(msg, FutureWarning)\n"
     ]
    },
    {
     "data": {
      "text/plain": [
       "<AxesSubplot:xlabel='MonthlyCharges', ylabel='Density'>"
      ]
     },
     "execution_count": 216,
     "metadata": {},
     "output_type": "execute_result"
    },
    {
     "data": {
      "image/png": "[encoded data removed]",
      "text/plain": [
       "<Figure size 720x576 with 1 Axes>"
      ]
     },
     "metadata": {
      "needs_background": "light"
     },
     "output_type": "display_data"
    }
   ],
   "source": [
    "is_Services.MonthlyCharges.value_counts(dropna=False)\n",
    "import seaborn as sns\n",
    "import matplotlib.pyplot as plt\n",
    "fig, ax = plt.subplots(figsize=(10, 8))\n",
    "sns.distplot(is_Services.MonthlyCharges, ax=ax)\n",
    "#sns.histplot(is_Services.MonthlyCharges, ax=ax, binwidth=2)"
   ]
  },
  {
   "cell_type": "code",
   "execution_count": 217,
   "metadata": {},
   "outputs": [
    {
     "data": {
      "text/plain": [
       "<AxesSubplot:>"
      ]
     },
     "execution_count": 217,
     "metadata": {},
     "output_type": "execute_result"
    },
    {
     "data": {
      "image/png": "[encoded data removed]",
      "text/plain": [
       "<Figure size 432x288 with 1 Axes>"
      ]
     },
     "metadata": {
      "needs_background": "light"
     },
     "output_type": "display_data"
    }
   ],
   "source": [
    "(\n",
    " is_Services.MonthlyCharges.pipe(\n",
    " lambda ser: pd.qcut(ser, q=10)\n",
    " ).value_counts().sort_index().plot.bar()\n",
    ")"
   ]
  },
  {
   "cell_type": "code",
   "execution_count": 218,
   "metadata": {},
   "outputs": [
    {
     "name": "stderr",
     "output_type": "stream",
     "text": [
      "C:\\Users\\dajin\\Anaconda3\\lib\\site-packages\\seaborn\\categorical.py:1296: UserWarning: 37.2% of the points cannot be placed; you may want to decrease the size of the markers or use stripplot.\n",
      "  warnings.warn(msg, UserWarning)\n"
     ]
    },
    {
     "data": {
      "text/plain": [
       "<AxesSubplot:xlabel='InternetService', ylabel='MonthlyCharges'>"
      ]
     },
     "execution_count": 218,
     "metadata": {},
     "output_type": "execute_result"
    },
    {
     "data": {
      "image/png": "[encoded data removed]",
      "text/plain": [
       "<Figure size 360x360 with 1 Axes>"
      ]
     },
     "metadata": {
      "needs_background": "light"
     },
     "output_type": "display_data"
    }
   ],
   "source": [
    "# 매달 내는 요금이 어느정도인지 살펴보기 위함이므로 MonthlyCharges 열 사용\n",
    "g =sns.catplot(x='InternetService', y='MonthlyCharges', data=is_Services, kind='box')\n",
    "sns.swarmplot(x='InternetService', y='MonthlyCharges', data=is_Services, color='k', size=1, ax=g.ax)"
   ]
  },
  {
   "cell_type": "raw",
   "metadata": {},
   "source": [
    "- telecom Service를 하는 사람들 중, 휴대폰 서비스를 받는 사람들은 약 70%로 분포되어있다. \n",
    "- 이때, 휴대폰 서비스를 제공자가 DSL, FOI, No(없다)로 나누어져, \n",
    "- DSL, FOI로 부터 서비스를 약 77%의 사람들이 서비스를 받고 있다."
   ]
  },
  {
   "cell_type": "markdown",
   "metadata": {},
   "source": [
    "1. 여기서 DSL을 제공받는 사람들은 평균 60.56달러, 최소 40 최대 100 미만으로 분포되어있고, \n",
    "2. FOI의 경우 평균 91.56250 달러, 최소 60달러 이상 최대 약 120달러까지로 분포되어 있다.\n",
    "3. 여기서 나타나는 결론 도출은 \n",
    " ★ 만약 DSL과 FOI의 서비스 수준의 차이가 극명하게 나타나, FOI의 서비스가 필요한 사람들에게는 좋은 선택지나, \n",
    " 둘의 수준의 경우가 비슷하거나 서비스를 받는데에 있어 FOI의 수준까지 필요없는 사람들은 DSL에서 제공하는 인터넷 서비스로 바꾸는 것을 추천한다는 것이다.\n",
    " ★ 인터넷 서비스를 이용하지 않은 사람들과 사용하는 사람들의 금액차이가 매우 두드러지게 보이게 됨으로, \n",
    " 서비스가 필수적이지 않은 사람들은 경제적 비용을 위해 하지 않거나, 그나마 비용이 적은 DSL을 추천할 것이다.\n",
    " \n",
    " -DSL: 지역 전화망을 통해 디지털 데이터 전송을 제공하는 기술의 계열\n",
    " \n",
    " -FOI: 광 섬유를 이용한 인터넷 서비스"
   ]
  },
  {
   "cell_type": "markdown",
   "metadata": {},
   "source": [
    "2. 서비스를 받는 사람들은 기기 보험을 들었을 것인가?"
   ]
  },
  {
   "cell_type": "code",
   "execution_count": 219,
   "metadata": {},
   "outputs": [
    {
     "data": {
      "text/html": [
       "<div>\n",
       "<style scoped>\n",
       "    .dataframe tbody tr th:only-of-type {\n",
       "        vertical-align: middle;\n",
       "    }\n",
       "\n",
       "    .dataframe tbody tr th {\n",
       "        vertical-align: top;\n",
       "    }\n",
       "\n",
       "    .dataframe thead th {\n",
       "        text-align: right;\n",
       "    }\n",
       "</style>\n",
       "<table border=\"1\" class=\"dataframe\">\n",
       "  <thead>\n",
       "    <tr style=\"text-align: right;\">\n",
       "      <th></th>\n",
       "      <th>PhoneService</th>\n",
       "      <th>InternetService</th>\n",
       "      <th>DeviceProtection</th>\n",
       "    </tr>\n",
       "  </thead>\n",
       "  <tbody>\n",
       "    <tr>\n",
       "      <th>0</th>\n",
       "      <td>Yes</td>\n",
       "      <td>No</td>\n",
       "      <td>No internet service</td>\n",
       "    </tr>\n",
       "    <tr>\n",
       "      <th>1</th>\n",
       "      <td>Yes</td>\n",
       "      <td>Fiber optic</td>\n",
       "      <td>Yes</td>\n",
       "    </tr>\n",
       "    <tr>\n",
       "      <th>2</th>\n",
       "      <td>Yes</td>\n",
       "      <td>Fiber optic</td>\n",
       "      <td>No</td>\n",
       "    </tr>\n",
       "    <tr>\n",
       "      <th>3</th>\n",
       "      <td>Yes</td>\n",
       "      <td>DSL</td>\n",
       "      <td>No</td>\n",
       "    </tr>\n",
       "    <tr>\n",
       "      <th>4</th>\n",
       "      <td>Yes</td>\n",
       "      <td>DSL</td>\n",
       "      <td>Yes</td>\n",
       "    </tr>\n",
       "  </tbody>\n",
       "</table>\n",
       "</div>"
      ],
      "text/plain": [
       "  PhoneService InternetService     DeviceProtection\n",
       "0          Yes              No  No internet service\n",
       "1          Yes     Fiber optic                  Yes\n",
       "2          Yes     Fiber optic                   No\n",
       "3          Yes             DSL                   No\n",
       "4          Yes             DSL                  Yes"
      ]
     },
     "execution_count": 219,
     "metadata": {},
     "output_type": "execute_result"
    }
   ],
   "source": [
    "Device = ['PhoneService', 'InternetService', 'DeviceProtection']\n",
    "Is_Device= telecom[Device]\n",
    "Is_Device.head()"
   ]
  },
  {
   "cell_type": "code",
   "execution_count": 220,
   "metadata": {},
   "outputs": [
    {
     "name": "stdout",
     "output_type": "stream",
     "text": [
      "<class 'pandas.core.frame.DataFrame'>\n",
      "Int64Index: 5396 entries, 0 to 5985\n",
      "Data columns (total 3 columns):\n",
      " #   Column            Non-Null Count  Dtype   \n",
      "---  ------            --------------  -----   \n",
      " 0   PhoneService      5396 non-null   category\n",
      " 1   InternetService   5396 non-null   category\n",
      " 2   DeviceProtection  5396 non-null   category\n",
      "dtypes: category(3)\n",
      "memory usage: 58.3 KB\n"
     ]
    }
   ],
   "source": [
    "#90%의 사람들을 뽑아내기 #5396명\n",
    "Device_Yes = Is_Device['PhoneService'] == 'Yes'\n",
    "Device_Yes = Is_Device[Device_Yes]\n",
    "Device_Yes.info() # 5396 "
   ]
  },
  {
   "cell_type": "code",
   "execution_count": 221,
   "metadata": {},
   "outputs": [
    {
     "name": "stdout",
     "output_type": "stream",
     "text": [
      "<class 'pandas.core.frame.DataFrame'>\n",
      "Int64Index: 590 entries, 5 to 5980\n",
      "Data columns (total 3 columns):\n",
      " #   Column            Non-Null Count  Dtype   \n",
      "---  ------            --------------  -----   \n",
      " 0   PhoneService      590 non-null    category\n",
      " 1   InternetService   590 non-null    category\n",
      " 2   DeviceProtection  590 non-null    category\n",
      "dtypes: category(3)\n",
      "memory usage: 6.6 KB\n"
     ]
    }
   ],
   "source": [
    "#10%의 사람들을 뽑아내기 #590명\n",
    "Device_No = Is_Device['PhoneService'] == 'No'\n",
    "Device_No = Is_Device[Device_No]\n",
    "Device_No.info() # 5396"
   ]
  },
  {
   "cell_type": "markdown",
   "metadata": {},
   "source": [
    "- 90%, 10%로 나누지 않고 한 crosstab"
   ]
  },
  {
   "cell_type": "code",
   "execution_count": 222,
   "metadata": {},
   "outputs": [
    {
     "data": {
      "text/html": [
       "<div>\n",
       "<style scoped>\n",
       "    .dataframe tbody tr th:only-of-type {\n",
       "        vertical-align: middle;\n",
       "    }\n",
       "\n",
       "    .dataframe tbody tr th {\n",
       "        vertical-align: top;\n",
       "    }\n",
       "\n",
       "    .dataframe thead th {\n",
       "        text-align: right;\n",
       "    }\n",
       "</style>\n",
       "<table border=\"1\" class=\"dataframe\">\n",
       "  <thead>\n",
       "    <tr style=\"text-align: right;\">\n",
       "      <th>DeviceProtection</th>\n",
       "      <th>No</th>\n",
       "      <th>No internet service</th>\n",
       "      <th>Yes</th>\n",
       "    </tr>\n",
       "    <tr>\n",
       "      <th>InternetService</th>\n",
       "      <th></th>\n",
       "      <th></th>\n",
       "      <th></th>\n",
       "    </tr>\n",
       "  </thead>\n",
       "  <tbody>\n",
       "    <tr>\n",
       "      <th>DSL</th>\n",
       "      <td>1158</td>\n",
       "      <td>0</td>\n",
       "      <td>910</td>\n",
       "    </tr>\n",
       "    <tr>\n",
       "      <th>Fiber optic</th>\n",
       "      <td>1482</td>\n",
       "      <td>0</td>\n",
       "      <td>1145</td>\n",
       "    </tr>\n",
       "    <tr>\n",
       "      <th>No</th>\n",
       "      <td>0</td>\n",
       "      <td>1291</td>\n",
       "      <td>0</td>\n",
       "    </tr>\n",
       "  </tbody>\n",
       "</table>\n",
       "</div>"
      ],
      "text/plain": [
       "DeviceProtection    No  No internet service   Yes\n",
       "InternetService                                  \n",
       "DSL               1158                    0   910\n",
       "Fiber optic       1482                    0  1145\n",
       "No                   0                 1291     0"
      ]
     },
     "execution_count": 222,
     "metadata": {},
     "output_type": "execute_result"
    }
   ],
   "source": [
    "pd.crosstab(Is_Device.InternetService,Is_Device.DeviceProtection)"
   ]
  },
  {
   "cell_type": "code",
   "execution_count": 223,
   "metadata": {},
   "outputs": [
    {
     "data": {
      "text/html": [
       "<div>\n",
       "<style scoped>\n",
       "    .dataframe tbody tr th:only-of-type {\n",
       "        vertical-align: middle;\n",
       "    }\n",
       "\n",
       "    .dataframe tbody tr th {\n",
       "        vertical-align: top;\n",
       "    }\n",
       "\n",
       "    .dataframe thead th {\n",
       "        text-align: right;\n",
       "    }\n",
       "</style>\n",
       "<table border=\"1\" class=\"dataframe\">\n",
       "  <thead>\n",
       "    <tr style=\"text-align: right;\">\n",
       "      <th></th>\n",
       "      <th>PhoneService</th>\n",
       "      <th>No</th>\n",
       "      <th>Yes</th>\n",
       "    </tr>\n",
       "    <tr>\n",
       "      <th>InternetService</th>\n",
       "      <th>DeviceProtection</th>\n",
       "      <th></th>\n",
       "      <th></th>\n",
       "    </tr>\n",
       "  </thead>\n",
       "  <tbody>\n",
       "    <tr>\n",
       "      <th rowspan=\"2\" valign=\"top\">DSL</th>\n",
       "      <th>No</th>\n",
       "      <td>326</td>\n",
       "      <td>832</td>\n",
       "    </tr>\n",
       "    <tr>\n",
       "      <th>Yes</th>\n",
       "      <td>264</td>\n",
       "      <td>646</td>\n",
       "    </tr>\n",
       "    <tr>\n",
       "      <th rowspan=\"2\" valign=\"top\">Fiber optic</th>\n",
       "      <th>No</th>\n",
       "      <td>0</td>\n",
       "      <td>1482</td>\n",
       "    </tr>\n",
       "    <tr>\n",
       "      <th>Yes</th>\n",
       "      <td>0</td>\n",
       "      <td>1145</td>\n",
       "    </tr>\n",
       "    <tr>\n",
       "      <th>No</th>\n",
       "      <th>No internet service</th>\n",
       "      <td>0</td>\n",
       "      <td>1291</td>\n",
       "    </tr>\n",
       "  </tbody>\n",
       "</table>\n",
       "</div>"
      ],
      "text/plain": [
       "PhoneService                          No   Yes\n",
       "InternetService DeviceProtection              \n",
       "DSL             No                   326   832\n",
       "                Yes                  264   646\n",
       "Fiber optic     No                     0  1482\n",
       "                Yes                    0  1145\n",
       "No              No internet service    0  1291"
      ]
     },
     "execution_count": 223,
     "metadata": {},
     "output_type": "execute_result"
    }
   ],
   "source": [
    "pd.crosstab([Is_Device.InternetService,Is_Device.DeviceProtection],Is_Device.PhoneService)"
   ]
  },
  {
   "cell_type": "code",
   "execution_count": 224,
   "metadata": {},
   "outputs": [
    {
     "data": {
      "text/plain": [
       "<AxesSubplot:xlabel='InternetService,PhoneService'>"
      ]
     },
     "execution_count": 224,
     "metadata": {},
     "output_type": "execute_result"
    },
    {
     "data": {
      "image/png": "[encoded data removed]",
      "text/plain": [
       "<Figure size 720x576 with 1 Axes>"
      ]
     },
     "metadata": {
      "needs_background": "light"
     },
     "output_type": "display_data"
    }
   ],
   "source": [
    "# crosstab 을 시각화합니다.\n",
    "fig, ax = plt.subplots(figsize=(10, 8))\n",
    "(\n",
    " Is_Device.pipe(lambda df_: pd.crosstab([Is_Device.InternetService,Is_Device.PhoneService],Is_Device.DeviceProtection))\n",
    " .plot.bar(ax=ax)\n",
    ")"
   ]
  },
  {
   "cell_type": "markdown",
   "metadata": {},
   "source": [
    "- Device_Yes, Device_No의 crosstab"
   ]
  },
  {
   "cell_type": "code",
   "execution_count": 225,
   "metadata": {},
   "outputs": [
    {
     "data": {
      "text/plain": [
       "<AxesSubplot:xlabel='InternetService'>"
      ]
     },
     "execution_count": 225,
     "metadata": {},
     "output_type": "execute_result"
    },
    {
     "data": {
      "image/png": "[encoded data removed]",
      "text/plain": [
       "<Figure size 720x576 with 1 Axes>"
      ]
     },
     "metadata": {
      "needs_background": "light"
     },
     "output_type": "display_data"
    }
   ],
   "source": [
    "pd.crosstab(Device_No.DeviceProtection,Device_No.InternetService)\n",
    "\n",
    "# crosstab 을 시각화합니다.\n",
    "fig, ax = plt.subplots(figsize=(10, 8))\n",
    "(\n",
    " Device_No.pipe(lambda df_: pd.crosstab(Device_No.InternetService,Device_No.DeviceProtection))\n",
    " .plot.bar(ax=ax)\n",
    ")"
   ]
  },
  {
   "cell_type": "code",
   "execution_count": 226,
   "metadata": {},
   "outputs": [
    {
     "data": {
      "text/plain": [
       "<AxesSubplot:xlabel='InternetService'>"
      ]
     },
     "execution_count": 226,
     "metadata": {},
     "output_type": "execute_result"
    },
    {
     "data": {
      "image/png": "[encoded data removed]",
      "text/plain": [
       "<Figure size 720x576 with 1 Axes>"
      ]
     },
     "metadata": {
      "needs_background": "light"
     },
     "output_type": "display_data"
    }
   ],
   "source": [
    "pd.crosstab(Device_Yes.DeviceProtection,Device_Yes.InternetService)\n",
    "\n",
    "fig, ax = plt.subplots(figsize=(10, 8))\n",
    "(\n",
    " Device_Yes.pipe(lambda df_: pd.crosstab(Device_Yes.InternetService,Device_Yes.DeviceProtection))\n",
    " .plot.bar(ax=ax)\n",
    ")"
   ]
  },
  {
   "cell_type": "markdown",
   "metadata": {},
   "source": [
    "- 2번째 분석 포인트에 대한 결론\n",
    "서비스를 받는 사람들 중 기기 보험을 든 사람들보다, 안 들은 사람들이 더 많았으며 DSL,FOI를 가리지 않고 \n",
    "보험을 듣지 않은 사람들이 %차치하고 있음을 보였다.\n",
    "그리고 서비스를 받지 않는 다고 해서 아예 기기 보험을 들지 않을 것 편견을 보여주는 결론임을 알 수 있다. \n",
    "\n",
    "★ 기기보험의 경우, 서비스의 유무에 따라 달라지지 않는다는 것을 알 수 있었고, 서비스를 받지 않는다고 해서 기기보험을 들지 않는것도 아니다라는 결론을 내릴 수 있다."
   ]
  },
  {
   "cell_type": "markdown",
   "metadata": {},
   "source": [
    "3. 기기 보험을 든 사람들은 요금을 많이 내는 쪽인가, 적게 내는 쪽인가? "
   ]
  },
  {
   "cell_type": "raw",
   "metadata": {},
   "source": [
    "그렇다면, 기기 보험을 든 사람들은 요금을 적게 내는 사람, 높게 내는 사람들까지도 차이가 없는지에 대해 분석했다."
   ]
  },
  {
   "cell_type": "code",
   "execution_count": 239,
   "metadata": {},
   "outputs": [
    {
     "data": {
      "text/html": [
       "<div>\n",
       "<style scoped>\n",
       "    .dataframe tbody tr th:only-of-type {\n",
       "        vertical-align: middle;\n",
       "    }\n",
       "\n",
       "    .dataframe tbody tr th {\n",
       "        vertical-align: top;\n",
       "    }\n",
       "\n",
       "    .dataframe thead th {\n",
       "        text-align: right;\n",
       "    }\n",
       "</style>\n",
       "<table border=\"1\" class=\"dataframe\">\n",
       "  <thead>\n",
       "    <tr style=\"text-align: right;\">\n",
       "      <th></th>\n",
       "      <th>DeviceProtection</th>\n",
       "      <th>MonthlyCharges</th>\n",
       "      <th>TotalCharges</th>\n",
       "    </tr>\n",
       "  </thead>\n",
       "  <tbody>\n",
       "    <tr>\n",
       "      <th>0</th>\n",
       "      <td>No internet service</td>\n",
       "      <td>24.09375</td>\n",
       "      <td>1735.0</td>\n",
       "    </tr>\n",
       "    <tr>\n",
       "      <th>1</th>\n",
       "      <td>Yes</td>\n",
       "      <td>88.12500</td>\n",
       "      <td>3974.0</td>\n",
       "    </tr>\n",
       "    <tr>\n",
       "      <th>2</th>\n",
       "      <td>No</td>\n",
       "      <td>74.93750</td>\n",
       "      <td>2870.0</td>\n",
       "    </tr>\n",
       "    <tr>\n",
       "      <th>3</th>\n",
       "      <td>No</td>\n",
       "      <td>55.90625</td>\n",
       "      <td>238.5</td>\n",
       "    </tr>\n",
       "    <tr>\n",
       "      <th>4</th>\n",
       "      <td>Yes</td>\n",
       "      <td>53.43750</td>\n",
       "      <td>119.5</td>\n",
       "    </tr>\n",
       "  </tbody>\n",
       "</table>\n",
       "</div>"
      ],
      "text/plain": [
       "      DeviceProtection  MonthlyCharges  TotalCharges\n",
       "0  No internet service        24.09375        1735.0\n",
       "1                  Yes        88.12500        3974.0\n",
       "2                   No        74.93750        2870.0\n",
       "3                   No        55.90625         238.5\n",
       "4                  Yes        53.43750         119.5"
      ]
     },
     "execution_count": 239,
     "metadata": {},
     "output_type": "execute_result"
    }
   ],
   "source": [
    "DeviceMomey = ['DeviceProtection', 'MonthlyCharges', 'TotalCharges']\n",
    "DeviceMomey= telecom[DeviceMomey]\n",
    "DeviceMomey.head()"
   ]
  },
  {
   "cell_type": "code",
   "execution_count": 243,
   "metadata": {},
   "outputs": [],
   "source": [
    "n1 = DeviceMomey.DeviceProtection == 'Yes'\n",
    "n2 = DeviceMomey.MonthlyCharges < 64\n",
    "n3 = DeviceMomey.TotalCharges < 2298\n",
    "\n",
    "n_final = n1 &n2 &n3"
   ]
  },
  {
   "cell_type": "code",
   "execution_count": 246,
   "metadata": {},
   "outputs": [
    {
     "data": {
      "text/html": [
       "<div>\n",
       "<style scoped>\n",
       "    .dataframe tbody tr th:only-of-type {\n",
       "        vertical-align: middle;\n",
       "    }\n",
       "\n",
       "    .dataframe tbody tr th {\n",
       "        vertical-align: top;\n",
       "    }\n",
       "\n",
       "    .dataframe thead th {\n",
       "        text-align: right;\n",
       "    }\n",
       "</style>\n",
       "<table border=\"1\" class=\"dataframe\">\n",
       "  <thead>\n",
       "    <tr style=\"text-align: right;\">\n",
       "      <th></th>\n",
       "      <th>DeviceProtection</th>\n",
       "      <th>MonthlyCharges</th>\n",
       "      <th>TotalCharges</th>\n",
       "    </tr>\n",
       "  </thead>\n",
       "  <tbody>\n",
       "    <tr>\n",
       "      <th>1</th>\n",
       "      <td>Yes</td>\n",
       "      <td>88.12500</td>\n",
       "      <td>3974.0</td>\n",
       "    </tr>\n",
       "    <tr>\n",
       "      <th>4</th>\n",
       "      <td>Yes</td>\n",
       "      <td>53.43750</td>\n",
       "      <td>119.5</td>\n",
       "    </tr>\n",
       "    <tr>\n",
       "      <th>5</th>\n",
       "      <td>Yes</td>\n",
       "      <td>49.84375</td>\n",
       "      <td>3370.0</td>\n",
       "    </tr>\n",
       "    <tr>\n",
       "      <th>8</th>\n",
       "      <td>Yes</td>\n",
       "      <td>35.56250</td>\n",
       "      <td>1309.0</td>\n",
       "    </tr>\n",
       "    <tr>\n",
       "      <th>9</th>\n",
       "      <td>Yes</td>\n",
       "      <td>116.50000</td>\n",
       "      <td>6384.0</td>\n",
       "    </tr>\n",
       "    <tr>\n",
       "      <th>...</th>\n",
       "      <td>...</td>\n",
       "      <td>...</td>\n",
       "      <td>...</td>\n",
       "    </tr>\n",
       "    <tr>\n",
       "      <th>5976</th>\n",
       "      <td>Yes</td>\n",
       "      <td>107.93750</td>\n",
       "      <td>5292.0</td>\n",
       "    </tr>\n",
       "    <tr>\n",
       "      <th>5977</th>\n",
       "      <td>Yes</td>\n",
       "      <td>102.12500</td>\n",
       "      <td>6540.0</td>\n",
       "    </tr>\n",
       "    <tr>\n",
       "      <th>5979</th>\n",
       "      <td>Yes</td>\n",
       "      <td>89.37500</td>\n",
       "      <td>6376.0</td>\n",
       "    </tr>\n",
       "    <tr>\n",
       "      <th>5982</th>\n",
       "      <td>Yes</td>\n",
       "      <td>91.12500</td>\n",
       "      <td>2198.0</td>\n",
       "    </tr>\n",
       "    <tr>\n",
       "      <th>5984</th>\n",
       "      <td>Yes</td>\n",
       "      <td>99.43750</td>\n",
       "      <td>1200.0</td>\n",
       "    </tr>\n",
       "  </tbody>\n",
       "</table>\n",
       "<p>2055 rows × 3 columns</p>\n",
       "</div>"
      ],
      "text/plain": [
       "     DeviceProtection  MonthlyCharges  TotalCharges\n",
       "1                 Yes        88.12500        3974.0\n",
       "4                 Yes        53.43750         119.5\n",
       "5                 Yes        49.84375        3370.0\n",
       "8                 Yes        35.56250        1309.0\n",
       "9                 Yes       116.50000        6384.0\n",
       "...               ...             ...           ...\n",
       "5976              Yes       107.93750        5292.0\n",
       "5977              Yes       102.12500        6540.0\n",
       "5979              Yes        89.37500        6376.0\n",
       "5982              Yes        91.12500        2198.0\n",
       "5984              Yes        99.43750        1200.0\n",
       "\n",
       "[2055 rows x 3 columns]"
      ]
     },
     "execution_count": 246,
     "metadata": {},
     "output_type": "execute_result"
    }
   ],
   "source": [
    "DeviceMomey[n1]"
   ]
  },
  {
   "cell_type": "code",
   "execution_count": 245,
   "metadata": {},
   "outputs": [
    {
     "data": {
      "text/html": [
       "<div>\n",
       "<style scoped>\n",
       "    .dataframe tbody tr th:only-of-type {\n",
       "        vertical-align: middle;\n",
       "    }\n",
       "\n",
       "    .dataframe tbody tr th {\n",
       "        vertical-align: top;\n",
       "    }\n",
       "\n",
       "    .dataframe thead th {\n",
       "        text-align: right;\n",
       "    }\n",
       "</style>\n",
       "<table border=\"1\" class=\"dataframe\">\n",
       "  <thead>\n",
       "    <tr style=\"text-align: right;\">\n",
       "      <th></th>\n",
       "      <th>DeviceProtection</th>\n",
       "      <th>MonthlyCharges</th>\n",
       "      <th>TotalCharges</th>\n",
       "    </tr>\n",
       "  </thead>\n",
       "  <tbody>\n",
       "    <tr>\n",
       "      <th>4</th>\n",
       "      <td>Yes</td>\n",
       "      <td>53.43750</td>\n",
       "      <td>119.50</td>\n",
       "    </tr>\n",
       "    <tr>\n",
       "      <th>8</th>\n",
       "      <td>Yes</td>\n",
       "      <td>35.56250</td>\n",
       "      <td>1309.00</td>\n",
       "    </tr>\n",
       "    <tr>\n",
       "      <th>48</th>\n",
       "      <td>Yes</td>\n",
       "      <td>54.75000</td>\n",
       "      <td>445.75</td>\n",
       "    </tr>\n",
       "    <tr>\n",
       "      <th>59</th>\n",
       "      <td>Yes</td>\n",
       "      <td>55.25000</td>\n",
       "      <td>1716.00</td>\n",
       "    </tr>\n",
       "    <tr>\n",
       "      <th>63</th>\n",
       "      <td>Yes</td>\n",
       "      <td>61.18750</td>\n",
       "      <td>2021.00</td>\n",
       "    </tr>\n",
       "    <tr>\n",
       "      <th>...</th>\n",
       "      <td>...</td>\n",
       "      <td>...</td>\n",
       "      <td>...</td>\n",
       "    </tr>\n",
       "    <tr>\n",
       "      <th>5926</th>\n",
       "      <td>Yes</td>\n",
       "      <td>48.68750</td>\n",
       "      <td>340.25</td>\n",
       "    </tr>\n",
       "    <tr>\n",
       "      <th>5929</th>\n",
       "      <td>Yes</td>\n",
       "      <td>59.81250</td>\n",
       "      <td>825.00</td>\n",
       "    </tr>\n",
       "    <tr>\n",
       "      <th>5963</th>\n",
       "      <td>Yes</td>\n",
       "      <td>50.81250</td>\n",
       "      <td>463.50</td>\n",
       "    </tr>\n",
       "    <tr>\n",
       "      <th>5964</th>\n",
       "      <td>Yes</td>\n",
       "      <td>36.25000</td>\n",
       "      <td>1151.00</td>\n",
       "    </tr>\n",
       "    <tr>\n",
       "      <th>5972</th>\n",
       "      <td>Yes</td>\n",
       "      <td>35.34375</td>\n",
       "      <td>1318.00</td>\n",
       "    </tr>\n",
       "  </tbody>\n",
       "</table>\n",
       "<p>236 rows × 3 columns</p>\n",
       "</div>"
      ],
      "text/plain": [
       "     DeviceProtection  MonthlyCharges  TotalCharges\n",
       "4                 Yes        53.43750        119.50\n",
       "8                 Yes        35.56250       1309.00\n",
       "48                Yes        54.75000        445.75\n",
       "59                Yes        55.25000       1716.00\n",
       "63                Yes        61.18750       2021.00\n",
       "...               ...             ...           ...\n",
       "5926              Yes        48.68750        340.25\n",
       "5929              Yes        59.81250        825.00\n",
       "5963              Yes        50.81250        463.50\n",
       "5964              Yes        36.25000       1151.00\n",
       "5972              Yes        35.34375       1318.00\n",
       "\n",
       "[236 rows x 3 columns]"
      ]
     },
     "execution_count": 245,
     "metadata": {},
     "output_type": "execute_result"
    }
   ],
   "source": [
    "#n_final.head()\n",
    "DeviceMomey[n_final]"
   ]
  },
  {
   "cell_type": "code",
   "execution_count": 250,
   "metadata": {},
   "outputs": [
    {
     "name": "stdout",
     "output_type": "stream",
     "text": [
      "11.48418491484185\n"
     ]
    }
   ],
   "source": [
    "print((236/2055) * 100)"
   ]
  },
  {
   "cell_type": "markdown",
   "metadata": {},
   "source": [
    "보험을 드는 사람들 중, MonthlyCharges, TotalCharges의 평균보다 아래의 금액을 내는 사람들의 2055중 236 밖에 되지 않음을 알 수 있다. \n",
    "- 이 수치의 경우 약 11.5%의 사람이 존재함을 보여준다.\n",
    "- 즉, 평균적 금액을 쓰고 있는 사람 혹은 그 이하의 금액을 내는 사람들의 경우 기기 보험을 들지 않는다."
   ]
  },
  {
   "cell_type": "code",
   "execution_count": 256,
   "metadata": {},
   "outputs": [
    {
     "name": "stderr",
     "output_type": "stream",
     "text": [
      "C:\\Users\\dajin\\Anaconda3\\lib\\site-packages\\seaborn\\categorical.py:1296: UserWarning: 7.0% of the points cannot be placed; you may want to decrease the size of the markers or use stripplot.\n",
      "  warnings.warn(msg, UserWarning)\n",
      "C:\\Users\\dajin\\Anaconda3\\lib\\site-packages\\seaborn\\categorical.py:1296: UserWarning: 6.6% of the points cannot be placed; you may want to decrease the size of the markers or use stripplot.\n",
      "  warnings.warn(msg, UserWarning)\n"
     ]
    },
    {
     "data": {
      "text/plain": [
       "<AxesSubplot:xlabel='DeviceProtection', ylabel='TotalCharges'>"
      ]
     },
     "execution_count": 256,
     "metadata": {},
     "output_type": "execute_result"
    },
    {
     "data": {
      "image/png": "[encoded data removed]",
      "text/plain": [
       "<Figure size 360x360 with 1 Axes>"
      ]
     },
     "metadata": {
      "needs_background": "light"
     },
     "output_type": "display_data"
    }
   ],
   "source": [
    "# 총 요금에서의 기기 보험 유무 확인 위함이므로 TotalCharges 열 사용\n",
    "g =sns.catplot(x='DeviceProtection', y='TotalCharges', data=DeviceMomey, kind='box')\n",
    "sns.swarmplot(x='DeviceProtection', y='TotalCharges', data=DeviceMomey, color='k', size=1, ax=g.ax)"
   ]
  },
  {
   "cell_type": "code",
   "execution_count": 255,
   "metadata": {},
   "outputs": [
    {
     "name": "stderr",
     "output_type": "stream",
     "text": [
      "C:\\Users\\dajin\\Anaconda3\\lib\\site-packages\\seaborn\\categorical.py:1296: UserWarning: 37.2% of the points cannot be placed; you may want to decrease the size of the markers or use stripplot.\n",
      "  warnings.warn(msg, UserWarning)\n"
     ]
    },
    {
     "data": {
      "text/plain": [
       "<AxesSubplot:xlabel='DeviceProtection', ylabel='MonthlyCharges'>"
      ]
     },
     "execution_count": 255,
     "metadata": {},
     "output_type": "execute_result"
    },
    {
     "data": {
      "image/png": "[encoded data removed]",
      "text/plain": [
       "<Figure size 360x360 with 1 Axes>"
      ]
     },
     "metadata": {
      "needs_background": "light"
     },
     "output_type": "display_data"
    }
   ],
   "source": [
    "# 매달 내는 요금이 어느정도인지 살펴보기 위함이므로 MonthlyCharges 열 사용\n",
    "e =sns.catplot(x='DeviceProtection', y='MonthlyCharges', data=DeviceMomey, kind='box')\n",
    "sns.swarmplot(x='DeviceProtection', y='MonthlyCharges', data=DeviceMomey, color='k', size=1, ax=e.ax)"
   ]
  },
  {
   "cell_type": "code",
   "execution_count": 253,
   "metadata": {},
   "outputs": [
    {
     "data": {
      "text/plain": [
       "<AxesSubplot:ylabel='Frequency'>"
      ]
     },
     "execution_count": 253,
     "metadata": {},
     "output_type": "execute_result"
    },
    {
     "data": {
      "image/png": "[encoded data removed]",
      "text/plain": [
       "<Figure size 576x576 with 1 Axes>"
      ]
     },
     "metadata": {
      "needs_background": "light"
     },
     "output_type": "display_data"
    }
   ],
   "source": [
    "Money_month= DeviceMomey['MonthlyCharges']\n",
    "import matplotlib.pyplot as plt\n",
    "fig, ax = plt.subplots(figsize=(8, 8))\n",
    "Money_month.plot.hist()"
   ]
  },
  {
   "cell_type": "markdown",
   "metadata": {},
   "source": [
    "4. 서비스를 받는 사람들은 Contract, InternetService는 어떻게 분포되어있는가?\n",
    "- -> InternetService는 위에서 많이 다룬것 처럼 / 쓰는 사람 90%, 안쓰는 사람 10%로 나타낼 수 있다."
   ]
  },
  {
   "cell_type": "code",
   "execution_count": 285,
   "metadata": {},
   "outputs": [
    {
     "data": {
      "text/plain": [
       "<AxesSubplot:xlabel='InternetService,PhoneService'>"
      ]
     },
     "execution_count": 285,
     "metadata": {},
     "output_type": "execute_result"
    },
    {
     "data": {
      "image/png": "[encoded data removed]",
      "text/plain": [
       "<Figure size 720x576 with 1 Axes>"
      ]
     },
     "metadata": {
      "needs_background": "light"
     },
     "output_type": "display_data"
    }
   ],
   "source": [
    "fig, ax = plt.subplots(figsize=(10, 8))\n",
    "(\n",
    " Device_Yes.pipe(lambda df_: pd.crosstab([telecom.InternetService,telecom.PhoneService],telecom.Contract))\n",
    " .plot.bar(ax=ax)\n",
    ")"
   ]
  },
  {
   "cell_type": "code",
   "execution_count": 308,
   "metadata": {},
   "outputs": [
    {
     "data": {
      "text/html": [
       "<div>\n",
       "<style scoped>\n",
       "    .dataframe tbody tr th:only-of-type {\n",
       "        vertical-align: middle;\n",
       "    }\n",
       "\n",
       "    .dataframe tbody tr th {\n",
       "        vertical-align: top;\n",
       "    }\n",
       "\n",
       "    .dataframe thead th {\n",
       "        text-align: right;\n",
       "    }\n",
       "</style>\n",
       "<table border=\"1\" class=\"dataframe\">\n",
       "  <thead>\n",
       "    <tr style=\"text-align: right;\">\n",
       "      <th></th>\n",
       "      <th>Contract</th>\n",
       "      <th>Month-to-month</th>\n",
       "      <th>One year</th>\n",
       "      <th>Two year</th>\n",
       "    </tr>\n",
       "    <tr>\n",
       "      <th>InternetService</th>\n",
       "      <th>PhoneService</th>\n",
       "      <th></th>\n",
       "      <th></th>\n",
       "      <th></th>\n",
       "    </tr>\n",
       "  </thead>\n",
       "  <tbody>\n",
       "    <tr>\n",
       "      <th rowspan=\"2\" valign=\"top\">DSL</th>\n",
       "      <th>No</th>\n",
       "      <td>324</td>\n",
       "      <td>130</td>\n",
       "      <td>136</td>\n",
       "    </tr>\n",
       "    <tr>\n",
       "      <th>Yes</th>\n",
       "      <td>717</td>\n",
       "      <td>363</td>\n",
       "      <td>398</td>\n",
       "    </tr>\n",
       "    <tr>\n",
       "      <th>Fiber optic</th>\n",
       "      <th>Yes</th>\n",
       "      <td>1790</td>\n",
       "      <td>469</td>\n",
       "      <td>368</td>\n",
       "    </tr>\n",
       "    <tr>\n",
       "      <th>No</th>\n",
       "      <th>Yes</th>\n",
       "      <td>438</td>\n",
       "      <td>314</td>\n",
       "      <td>539</td>\n",
       "    </tr>\n",
       "  </tbody>\n",
       "</table>\n",
       "</div>"
      ],
      "text/plain": [
       "Contract                      Month-to-month  One year  Two year\n",
       "InternetService PhoneService                                    \n",
       "DSL             No                       324       130       136\n",
       "                Yes                      717       363       398\n",
       "Fiber optic     Yes                     1790       469       368\n",
       "No              Yes                      438       314       539"
      ]
     },
     "execution_count": 308,
     "metadata": {},
     "output_type": "execute_result"
    }
   ],
   "source": [
    "pd.crosstab([telecom.InternetService,telecom.PhoneService],telecom.Contract)"
   ]
  },
  {
   "cell_type": "markdown",
   "metadata": {},
   "source": [
    "- 4번의 결론 \n",
    "0. 서비스를 받는 사람들의 경우 'Month-to-month'의 형태로 계약하였음을 나타내고 그 중 InternetService를 받지 않는 사람들은 'Two year'로 계약한 형태가 더 많음을 나타낸다. "
   ]
  },
  {
   "cell_type": "markdown",
   "metadata": {},
   "source": [
    "## 총 결론"
   ]
  },
  {
   "cell_type": "markdown",
   "metadata": {},
   "source": [
    "telecom의 데이터 파일을 통해 결론을 낼 수 있는 것들은, \n",
    "1. 모바일핸드폰 서비스를 받는 경우 인터넷 서비스를 같이 하는 경우들이 90%이상이였으며,\n",
    "2. 그 중 인터넷 서비스를 이용하는 사람들이 77%로 과반수가 이용하고 있다.\n",
    "3. 인터넷 서비스는 DSL, FOI로 두 가지 제공자가 존재하며 좀 더 비싸고 서비스의 속도가 좋은 것은 FOI(Fiber Optic InternetService)이다. \n",
    "4. 다만 FOI의 서비스에 비례하여 값도 평균이 약40달러 높기 때문에 그 정도의 서비스가 필요없다면 DSL이 합리적이다. \n",
    "5. 기기보험의 경우 서비스를 받더라도 들지 않은 경우가 많으며, 보험을 들지 않은 쪽의 경우 'TotalCharges'가 매우 적은 비용 결과를 보여주었다.\n",
    "6. 마지막으로 대부분의 서비스를 받는 사람들은 Month-to-month 의 형태로 계약을 했다는 것을 나타낸다.\n",
    "\n",
    "-> 이 결론으로 만약 모바일핸드폰 인터넷서비스를 제공 받으려는 처음 사람에게 추천해줄 수 있는데 \n",
    "1. 서비스를 할 경우 DSL, FOI 중 서비스품질을 좋은 것을 선택하려고 한다면 FOI, 그렇지 않은 경우 가격이 저렴한 편인 DSL을 추천할 수 있다. \n",
    "2. 기기 보험의 경우 들지 않은 사람들이 꽤 존재하기 때문에, 경제적면에서 부담스럽다면 들지 않은 것을 권하고, 아닐 경우 사용자의 생활패턴에 맞는 선택을 하도록 고려한다. \n",
    "3. 마지막으로 계약 형태를 고민한다면 'Month-to-month'의 형태를 추천한다."
   ]
  },
  {
   "cell_type": "raw",
   "metadata": {},
   "source": [
    "※여기서부터는 프로그래밍3의 수업 최대한의 응용하는 부분들 [위에서 쓰지 않은 부분들 위주로] \"5/17부터 진행 중\"\n",
    "- 분석 포인트의 부분은 아니지만, 이 데이터세트로 이용할 수 있는 분석 "
   ]
  },
  {
   "cell_type": "code",
   "execution_count": 312,
   "metadata": {},
   "outputs": [],
   "source": [
    "#원래의 이 데이터가 만들어진 목적 \n",
    "#이탈예측 [churn]- input, output"
   ]
  },
  {
   "cell_type": "code",
   "execution_count": 279,
   "metadata": {},
   "outputs": [
    {
     "data": {
      "text/plain": [
       "Month-to-month    3269\n",
       "Two year          1441\n",
       "One year          1276\n",
       "Name: Contract, dtype: int64"
      ]
     },
     "execution_count": 279,
     "metadata": {},
     "output_type": "execute_result"
    }
   ],
   "source": [
    "telecom_depts = ['Month-to-month']\n",
    "col = ['PhoneService','InternetService','Contract']\n",
    "telecom.Contract.value_counts()"
   ]
  },
  {
   "cell_type": "code",
   "execution_count": 286,
   "metadata": {},
   "outputs": [
    {
     "data": {
      "text/html": [
       "<div>\n",
       "<style scoped>\n",
       "    .dataframe tbody tr th:only-of-type {\n",
       "        vertical-align: middle;\n",
       "    }\n",
       "\n",
       "    .dataframe tbody tr th {\n",
       "        vertical-align: top;\n",
       "    }\n",
       "\n",
       "    .dataframe thead th {\n",
       "        text-align: right;\n",
       "    }\n",
       "</style>\n",
       "<table border=\"1\" class=\"dataframe\">\n",
       "  <thead>\n",
       "    <tr style=\"text-align: right;\">\n",
       "      <th></th>\n",
       "      <th>PhoneService</th>\n",
       "      <th>InternetService</th>\n",
       "      <th>Contract</th>\n",
       "    </tr>\n",
       "  </thead>\n",
       "  <tbody>\n",
       "    <tr>\n",
       "      <th>4</th>\n",
       "      <td>Yes</td>\n",
       "      <td>DSL</td>\n",
       "      <td>Month-to-month</td>\n",
       "    </tr>\n",
       "    <tr>\n",
       "      <th>16</th>\n",
       "      <td>Yes</td>\n",
       "      <td>Fiber optic</td>\n",
       "      <td>Month-to-month</td>\n",
       "    </tr>\n",
       "    <tr>\n",
       "      <th>24</th>\n",
       "      <td>Yes</td>\n",
       "      <td>Fiber optic</td>\n",
       "      <td>Month-to-month</td>\n",
       "    </tr>\n",
       "    <tr>\n",
       "      <th>49</th>\n",
       "      <td>Yes</td>\n",
       "      <td>Fiber optic</td>\n",
       "      <td>Month-to-month</td>\n",
       "    </tr>\n",
       "    <tr>\n",
       "      <th>52</th>\n",
       "      <td>Yes</td>\n",
       "      <td>Fiber optic</td>\n",
       "      <td>Month-to-month</td>\n",
       "    </tr>\n",
       "  </tbody>\n",
       "</table>\n",
       "</div>"
      ],
      "text/plain": [
       "   PhoneService InternetService        Contract\n",
       "4           Yes             DSL  Month-to-month\n",
       "16          Yes     Fiber optic  Month-to-month\n",
       "24          Yes     Fiber optic  Month-to-month\n",
       "49          Yes     Fiber optic  Month-to-month\n",
       "52          Yes     Fiber optic  Month-to-month"
      ]
     },
     "execution_count": 286,
     "metadata": {},
     "output_type": "execute_result"
    }
   ],
   "source": [
    "qs = (\n",
    " \"Contract in @telecom_depts \"\n",
    " \"and PhoneService == 'Yes'\"\n",
    " \"and 50 <= TotalCharges <= 130\"\n",
    ")\n",
    "tel_filter = telecom.query(qs)\n",
    "tel_filter[col].head()\n"
   ]
  },
  {
   "cell_type": "code",
   "execution_count": null,
   "metadata": {},
   "outputs": [],
   "source": []
  }
 ],
 "metadata": {
  "kernelspec": {
   "display_name": "Python 3",
   "language": "python",
   "name": "python3"
  },
  "language_info": {
   "codemirror_mode": {
    "name": "ipython",
    "version": 3
   },
   "file_extension": ".py",
   "mimetype": "text/x-python",
   "name": "python",
   "nbconvert_exporter": "python",
   "pygments_lexer": "ipython3",
   "version": "3.8.5"
  }
 },
 "nbformat": 4,
 "nbformat_minor": 4
}
